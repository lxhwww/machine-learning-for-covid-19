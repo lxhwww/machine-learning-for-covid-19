{
  "cells": [
    {
      "cell_type": "markdown",
      "metadata": {
        "id": "view-in-github",
        "colab_type": "text"
      },
      "source": [
        "<a href=\"https://colab.research.google.com/github/lxhwww/machine-learning-for-covid-19/blob/main/ex2_code.ipynb\" target=\"_parent\"><img src=\"https://colab.research.google.com/assets/colab-badge.svg\" alt=\"Open In Colab\"/></a>"
      ]
    },
    {
      "cell_type": "markdown",
      "metadata": {
        "id": "T45q0854Ur_E"
      },
      "source": [
        "# import&data"
      ]
    },
    {
      "cell_type": "code",
      "execution_count": null,
      "metadata": {
        "colab": {
          "base_uri": "https://localhost:8080/"
        },
        "id": "5GQ-nHyMvvNm",
        "outputId": "57b60a89-5747-4148-d0f5-f00dde78f071"
      },
      "outputs": [
        {
          "output_type": "stream",
          "name": "stdout",
          "text": [
            "Drive already mounted at /content/drive; to attempt to forcibly remount, call drive.mount(\"/content/drive\", force_remount=True).\n"
          ]
        }
      ],
      "source": [
        "from google.colab import drive\n",
        "drive.mount('/content/drive')"
      ]
    },
    {
      "cell_type": "code",
      "execution_count": null,
      "metadata": {
        "id": "B84cOKnZ4dAo"
      },
      "outputs": [],
      "source": [
        "from statistics import median, mean\n",
        "import numpy as np \n",
        "import matplotlib.pyplot as plt \n",
        "import pandas as pd \n",
        "from sklearn.impute import SimpleImputer \n",
        "from sklearn import svm\n",
        "from sklearn.metrics import accuracy_score, roc_auc_score, f1_score\n",
        "from sklearn.ensemble import BaggingClassifier, RandomForestClassifier\n",
        "from sklearn.linear_model import LogisticRegression\n",
        "from sklearn.neighbors import KNeighborsClassifier\n",
        "from imblearn.ensemble import BalancedBaggingClassifier, RUSBoostClassifier\n",
        "from imblearn.over_sampling import SMOTE\n",
        "from sklearn.model_selection import train_test_split, KFold, cross_val_score, StratifiedKFold\n",
        "import seaborn as sns\n",
        "import warnings\n",
        "from pylab import rcParams\n",
        "from scipy.stats import f_oneway\n",
        "from scipy.stats import ttest_ind\n",
        "from collections import Counter\n",
        "from keras.utils import np_utils"
      ]
    },
    {
      "cell_type": "code",
      "execution_count": null,
      "metadata": {
        "colab": {
          "base_uri": "https://localhost:8080/"
        },
        "id": "YPOs6AOvf381",
        "outputId": "1bf4cde5-80ac-4042-8aab-c47540b1af29"
      },
      "outputs": [
        {
          "output_type": "stream",
          "name": "stdout",
          "text": [
            "(100, 13263)\n",
            "Index(['A1BG', 'A2M', 'AAAS', 'AACS', 'AAGAB', 'AAK1', 'AAMDC', 'AAMP',\n",
            "       'AANAT', 'AAR2',\n",
            "       ...\n",
            "       'ZWILCH', 'ZWINT', 'ZXDA', 'ZXDB', 'ZXDC', 'ZYG11A', 'ZYG11B', 'ZYX',\n",
            "       'ZZEF1', 'ZZZ3'],\n",
            "      dtype='object', length=13263)\n"
          ]
        }
      ],
      "source": [
        "transcriptomics=pd.read_csv('/content/drive/MyDrive/single_transcriptomics.csv',low_memory=False)\n",
        "transcriptomics.head(20)\n",
        "transcriptomics.shape\n",
        "transcriptomics=transcriptomics.iloc[:,2:]\n",
        "transcriptomics\n",
        "X_trans=transcriptomics.values\n",
        "print(X_trans.shape)\n",
        "print(transcriptomics.columns)\n",
        "col_trans=transcriptomics.columns.tolist()"
      ]
    },
    {
      "cell_type": "code",
      "execution_count": null,
      "metadata": {
        "colab": {
          "base_uri": "https://localhost:8080/"
        },
        "id": "uizRbRrjJnA7",
        "outputId": "53ee20ff-6a9a-4105-f0b4-caaee560fe90"
      },
      "outputs": [
        {
          "output_type": "stream",
          "name": "stdout",
          "text": [
            "(100, 517)\n"
          ]
        }
      ],
      "source": [
        "proteomics=pd.read_csv('/content/drive/MyDrive/single_proteomics.csv',low_memory=False)\n",
        "proteomics.head(20)\n",
        "proteomics.shape\n",
        "proteomics=proteomics.iloc[:,2:]\n",
        "proteomics\n",
        "X_pro=proteomics.values\n",
        "print(X_pro.shape)\n",
        "col_pro=proteomics.columns.tolist()"
      ]
    },
    {
      "cell_type": "code",
      "execution_count": null,
      "metadata": {
        "colab": {
          "base_uri": "https://localhost:8080/"
        },
        "id": "MHZwzDYLJsWI",
        "outputId": "cd264198-7309-4fb8-99ee-da1274b3add0"
      },
      "outputs": [
        {
          "output_type": "stream",
          "name": "stdout",
          "text": [
            "(100, 150)\n",
            "45\n",
            "(100, 105)\n",
            "(100, 105)\n"
          ]
        }
      ],
      "source": [
        "metabolomics=pd.read_csv('/content/drive/MyDrive/single_metabolomics.csv')\n",
        "metabolomics.head(20)\n",
        "\n",
        "metabolomics=metabolomics.iloc[:,2:]\n",
        "print(metabolomics.shape)\n",
        "t=0\n",
        "for i in metabolomics.columns:\n",
        "  if not i.find('unknown'):\n",
        "    t+=1\n",
        "    metabolomics.drop(columns=i,axis=1,inplace=True)\n",
        "print(t)\n",
        "print(metabolomics.shape)\n",
        "metabolomics.to_csv('single_metabolomics_del.csv')\n",
        "\n",
        "X_meta=metabolomics.values\n",
        "print(X_meta.shape)\n",
        "col_meta=metabolomics.columns.tolist()"
      ]
    },
    {
      "cell_type": "code",
      "execution_count": null,
      "metadata": {
        "colab": {
          "base_uri": "https://localhost:8080/"
        },
        "id": "Ayy1JPx4JskO",
        "outputId": "03dd19a2-9c35-4df2-ca49-ba3d1adcc8ac"
      },
      "outputs": [
        {
          "output_type": "stream",
          "name": "stdout",
          "text": [
            "(100, 3357)\n",
            "2710\n",
            "(100, 647)\n",
            "(100, 647)\n"
          ]
        }
      ],
      "source": [
        "lipidomics=pd.read_csv('/content/drive/MyDrive/single_lipidomics.csv',low_memory=False)\n",
        "lipidomics.head(20)\n",
        "lipidomics.shape\n",
        "lipidomics=lipidomics.iloc[:,2:]\n",
        "print(lipidomics.shape)\n",
        "t=0\n",
        "for i in lipidomics.columns:\n",
        "  if not i.find('Unknown'):\n",
        "    t+=1\n",
        "    lipidomics.drop(columns=i,axis=1,inplace=True)\n",
        "print(t)\n",
        "print(lipidomics.shape)\n",
        "lipidomics\n",
        "X_lip=lipidomics.values\n",
        "print(X_lip.shape)\n",
        "col_lip=lipidomics.columns.tolist()\n"
      ]
    },
    {
      "cell_type": "code",
      "execution_count": null,
      "metadata": {
        "colab": {
          "base_uri": "https://localhost:8080/"
        },
        "id": "wjhrTkXFu4VD",
        "outputId": "282a635b-fec2-4178-af96-ce2785de8556"
      },
      "outputs": [
        {
          "output_type": "execute_result",
          "data": {
            "text/plain": [
              "(100, 14532)"
            ]
          },
          "metadata": {},
          "execution_count": 7
        }
      ],
      "source": [
        "file_severity=pd.concat([transcriptomics,proteomics,metabolomics,lipidomics], axis=1)\n",
        "\n",
        "file_severity.head(20)\n",
        "file_severity.shape\n",
        "X=file_severity.values\n",
        "X.shape"
      ]
    },
    {
      "cell_type": "code",
      "execution_count": null,
      "metadata": {
        "colab": {
          "base_uri": "https://localhost:8080/",
          "height": 424
        },
        "id": "Ad0ONWpDM5DK",
        "outputId": "22da62fb-c352-4668-b413-3f076e38b12b"
      },
      "outputs": [
        {
          "output_type": "execute_result",
          "data": {
            "text/plain": [
              "    Hospital_free_days_45\n",
              "0                       0\n",
              "1                      39\n",
              "2                      18\n",
              "3                      39\n",
              "4                      27\n",
              "..                    ...\n",
              "95                      0\n",
              "96                     35\n",
              "97                     37\n",
              "98                      0\n",
              "99                      0\n",
              "\n",
              "[100 rows x 1 columns]"
            ],
            "text/html": [
              "\n",
              "  <div id=\"df-87395813-5870-4082-8ee4-77b06dcf99c1\">\n",
              "    <div class=\"colab-df-container\">\n",
              "      <div>\n",
              "<style scoped>\n",
              "    .dataframe tbody tr th:only-of-type {\n",
              "        vertical-align: middle;\n",
              "    }\n",
              "\n",
              "    .dataframe tbody tr th {\n",
              "        vertical-align: top;\n",
              "    }\n",
              "\n",
              "    .dataframe thead th {\n",
              "        text-align: right;\n",
              "    }\n",
              "</style>\n",
              "<table border=\"1\" class=\"dataframe\">\n",
              "  <thead>\n",
              "    <tr style=\"text-align: right;\">\n",
              "      <th></th>\n",
              "      <th>Hospital_free_days_45</th>\n",
              "    </tr>\n",
              "  </thead>\n",
              "  <tbody>\n",
              "    <tr>\n",
              "      <th>0</th>\n",
              "      <td>0</td>\n",
              "    </tr>\n",
              "    <tr>\n",
              "      <th>1</th>\n",
              "      <td>39</td>\n",
              "    </tr>\n",
              "    <tr>\n",
              "      <th>2</th>\n",
              "      <td>18</td>\n",
              "    </tr>\n",
              "    <tr>\n",
              "      <th>3</th>\n",
              "      <td>39</td>\n",
              "    </tr>\n",
              "    <tr>\n",
              "      <th>4</th>\n",
              "      <td>27</td>\n",
              "    </tr>\n",
              "    <tr>\n",
              "      <th>...</th>\n",
              "      <td>...</td>\n",
              "    </tr>\n",
              "    <tr>\n",
              "      <th>95</th>\n",
              "      <td>0</td>\n",
              "    </tr>\n",
              "    <tr>\n",
              "      <th>96</th>\n",
              "      <td>35</td>\n",
              "    </tr>\n",
              "    <tr>\n",
              "      <th>97</th>\n",
              "      <td>37</td>\n",
              "    </tr>\n",
              "    <tr>\n",
              "      <th>98</th>\n",
              "      <td>0</td>\n",
              "    </tr>\n",
              "    <tr>\n",
              "      <th>99</th>\n",
              "      <td>0</td>\n",
              "    </tr>\n",
              "  </tbody>\n",
              "</table>\n",
              "<p>100 rows × 1 columns</p>\n",
              "</div>\n",
              "      <button class=\"colab-df-convert\" onclick=\"convertToInteractive('df-87395813-5870-4082-8ee4-77b06dcf99c1')\"\n",
              "              title=\"Convert this dataframe to an interactive table.\"\n",
              "              style=\"display:none;\">\n",
              "        \n",
              "  <svg xmlns=\"http://www.w3.org/2000/svg\" height=\"24px\"viewBox=\"0 0 24 24\"\n",
              "       width=\"24px\">\n",
              "    <path d=\"M0 0h24v24H0V0z\" fill=\"none\"/>\n",
              "    <path d=\"M18.56 5.44l.94 2.06.94-2.06 2.06-.94-2.06-.94-.94-2.06-.94 2.06-2.06.94zm-11 1L8.5 8.5l.94-2.06 2.06-.94-2.06-.94L8.5 2.5l-.94 2.06-2.06.94zm10 10l.94 2.06.94-2.06 2.06-.94-2.06-.94-.94-2.06-.94 2.06-2.06.94z\"/><path d=\"M17.41 7.96l-1.37-1.37c-.4-.4-.92-.59-1.43-.59-.52 0-1.04.2-1.43.59L10.3 9.45l-7.72 7.72c-.78.78-.78 2.05 0 2.83L4 21.41c.39.39.9.59 1.41.59.51 0 1.02-.2 1.41-.59l7.78-7.78 2.81-2.81c.8-.78.8-2.07 0-2.86zM5.41 20L4 18.59l7.72-7.72 1.47 1.35L5.41 20z\"/>\n",
              "  </svg>\n",
              "      </button>\n",
              "      \n",
              "  <style>\n",
              "    .colab-df-container {\n",
              "      display:flex;\n",
              "      flex-wrap:wrap;\n",
              "      gap: 12px;\n",
              "    }\n",
              "\n",
              "    .colab-df-convert {\n",
              "      background-color: #E8F0FE;\n",
              "      border: none;\n",
              "      border-radius: 50%;\n",
              "      cursor: pointer;\n",
              "      display: none;\n",
              "      fill: #1967D2;\n",
              "      height: 32px;\n",
              "      padding: 0 0 0 0;\n",
              "      width: 32px;\n",
              "    }\n",
              "\n",
              "    .colab-df-convert:hover {\n",
              "      background-color: #E2EBFA;\n",
              "      box-shadow: 0px 1px 2px rgba(60, 64, 67, 0.3), 0px 1px 3px 1px rgba(60, 64, 67, 0.15);\n",
              "      fill: #174EA6;\n",
              "    }\n",
              "\n",
              "    [theme=dark] .colab-df-convert {\n",
              "      background-color: #3B4455;\n",
              "      fill: #D2E3FC;\n",
              "    }\n",
              "\n",
              "    [theme=dark] .colab-df-convert:hover {\n",
              "      background-color: #434B5C;\n",
              "      box-shadow: 0px 1px 3px 1px rgba(0, 0, 0, 0.15);\n",
              "      filter: drop-shadow(0px 1px 2px rgba(0, 0, 0, 0.3));\n",
              "      fill: #FFFFFF;\n",
              "    }\n",
              "  </style>\n",
              "\n",
              "      <script>\n",
              "        const buttonEl =\n",
              "          document.querySelector('#df-87395813-5870-4082-8ee4-77b06dcf99c1 button.colab-df-convert');\n",
              "        buttonEl.style.display =\n",
              "          google.colab.kernel.accessAllowed ? 'block' : 'none';\n",
              "\n",
              "        async function convertToInteractive(key) {\n",
              "          const element = document.querySelector('#df-87395813-5870-4082-8ee4-77b06dcf99c1');\n",
              "          const dataTable =\n",
              "            await google.colab.kernel.invokeFunction('convertToInteractive',\n",
              "                                                     [key], {});\n",
              "          if (!dataTable) return;\n",
              "\n",
              "          const docLinkHtml = 'Like what you see? Visit the ' +\n",
              "            '<a target=\"_blank\" href=https://colab.research.google.com/notebooks/data_table.ipynb>data table notebook</a>'\n",
              "            + ' to learn more about interactive tables.';\n",
              "          element.innerHTML = '';\n",
              "          dataTable['output_type'] = 'display_data';\n",
              "          await google.colab.output.renderOutput(dataTable, element);\n",
              "          const docLink = document.createElement('div');\n",
              "          docLink.innerHTML = docLinkHtml;\n",
              "          element.appendChild(docLink);\n",
              "        }\n",
              "      </script>\n",
              "    </div>\n",
              "  </div>\n",
              "  "
            ]
          },
          "metadata": {},
          "execution_count": 8
        }
      ],
      "source": [
        "file_info=pd.read_csv('/content/drive/MyDrive/info.csv')\n",
        "file_info.head\n",
        "HDF45=pd.DataFrame(np.asarray(file_info.loc[:99,'Hospital_free_days_45']))\n",
        "HDF45.columns=['Hospital_free_days_45']  \n",
        "HDF45"
      ]
    },
    {
      "cell_type": "markdown",
      "metadata": {
        "id": "H31uO9mAU9Zw"
      },
      "source": [
        "# Feature engineering--autoencoder/corr/ElasticNet\n",
        "\n"
      ]
    },
    {
      "cell_type": "code",
      "execution_count": null,
      "metadata": {
        "id": "U8mUaHzFVSyX"
      },
      "outputs": [],
      "source": [
        "#select data\n",
        "X_in=X"
      ]
    },
    {
      "cell_type": "code",
      "execution_count": null,
      "metadata": {
        "colab": {
          "base_uri": "https://localhost:8080/"
        },
        "id": "aYfHlGfiw6Qk",
        "outputId": "c70c874b-daa5-4faf-89a3-f408db8853e8"
      },
      "outputs": [
        {
          "output_type": "stream",
          "name": "stdout",
          "text": [
            "Epoch 1/20\n"
          ]
        },
        {
          "output_type": "stream",
          "name": "stderr",
          "text": [
            "/usr/local/lib/python3.7/dist-packages/keras/optimizer_v2/adam.py:105: UserWarning: The `lr` argument is deprecated, use `learning_rate` instead.\n",
            "  super(Adam, self).__init__(name, **kwargs)\n"
          ]
        },
        {
          "output_type": "stream",
          "name": "stdout",
          "text": [
            "4/4 [==============================] - 4s 112ms/step - loss: 1801.2406\n",
            "Epoch 2/20\n",
            "4/4 [==============================] - 0s 110ms/step - loss: 1395.3817\n",
            "Epoch 3/20\n",
            "4/4 [==============================] - 0s 110ms/step - loss: 1139.2311\n",
            "Epoch 4/20\n",
            "4/4 [==============================] - 0s 110ms/step - loss: 1000.9937\n",
            "Epoch 5/20\n",
            "4/4 [==============================] - 0s 110ms/step - loss: 939.1041\n",
            "Epoch 6/20\n",
            "4/4 [==============================] - 0s 110ms/step - loss: 854.5663\n",
            "Epoch 7/20\n",
            "4/4 [==============================] - 0s 109ms/step - loss: 765.7433\n",
            "Epoch 8/20\n",
            "4/4 [==============================] - 0s 110ms/step - loss: 700.0466\n",
            "Epoch 9/20\n",
            "4/4 [==============================] - 0s 109ms/step - loss: 635.4760\n",
            "Epoch 10/20\n",
            "4/4 [==============================] - 0s 110ms/step - loss: 580.1848\n",
            "Epoch 11/20\n",
            "4/4 [==============================] - 0s 111ms/step - loss: 529.9896\n",
            "Epoch 12/20\n",
            "4/4 [==============================] - 0s 109ms/step - loss: 483.9711\n",
            "Epoch 13/20\n",
            "4/4 [==============================] - 0s 111ms/step - loss: 443.0713\n",
            "Epoch 14/20\n",
            "4/4 [==============================] - 0s 109ms/step - loss: 408.8740\n",
            "Epoch 15/20\n",
            "4/4 [==============================] - 0s 111ms/step - loss: 376.7551\n",
            "Epoch 16/20\n",
            "4/4 [==============================] - 0s 110ms/step - loss: 348.7314\n",
            "Epoch 17/20\n",
            "4/4 [==============================] - 0s 110ms/step - loss: 323.7808\n",
            "Epoch 18/20\n",
            "4/4 [==============================] - 0s 109ms/step - loss: 300.7003\n",
            "Epoch 19/20\n",
            "4/4 [==============================] - 0s 109ms/step - loss: 279.8220\n",
            "Epoch 20/20\n",
            "4/4 [==============================] - 0s 109ms/step - loss: 261.4831\n"
          ]
        },
        {
          "output_type": "execute_result",
          "data": {
            "text/plain": [
              "(100, 500)"
            ]
          },
          "metadata": {},
          "execution_count": 17
        }
      ],
      "source": [
        "import keras\n",
        "import matplotlib.pyplot as plt\n",
        "from keras import regularizers,optimizers\n",
        "from keras.layers import Dropout\n",
        "\n",
        "encoding_dim = 500\n",
        "\n",
        "num=X_in.shape[1]\n",
        "\n",
        "encoder = keras.models.Sequential([\n",
        "    keras.layers.Dense(num, activation='relu',kernel_regularizer=regularizers.l1(0.001)),\n",
        "    keras.layers.Dense(2000, activation='relu',kernel_regularizer=regularizers.l1(0.001)),\n",
        "    Dropout(0.2),\n",
        "    keras.layers.Dense(encoding_dim)\n",
        "])\n",
        "\n",
        "decoder = keras.models.Sequential([\n",
        "    Dropout(0.2),                               \n",
        "    keras.layers.Dense(2000, activation='relu',kernel_regularizer=regularizers.l1(0.001)),\n",
        "    keras.layers.Dense(num, activation='tanh',activity_regularizer=regularizers.l1_l2(0.0001)),\n",
        "])\n",
        "\n",
        "AutoEncoder = keras.models.Sequential([\n",
        "    encoder,\n",
        "    decoder,\n",
        "])\n",
        "adam=keras.optimizers.adam_v2.Adam(lr=0.001)\n",
        "AutoEncoder.compile(optimizer=adam, loss='binary_crossentropy')\n",
        "AutoEncoder.fit(X_in,X_in,epochs=20)\n",
        "\n",
        "predict = encoder.predict(X_in)\n",
        "predict.shape"
      ]
    },
    {
      "cell_type": "code",
      "execution_count": null,
      "metadata": {
        "id": "I-Dl2rh474qs",
        "colab": {
          "base_uri": "https://localhost:8080/"
        },
        "outputId": "e1cceda0-cf22-4f85-b1cf-ee017002db2a"
      },
      "outputs": [
        {
          "output_type": "execute_result",
          "data": {
            "text/plain": [
              "(100, 501)"
            ]
          },
          "metadata": {},
          "execution_count": 18
        }
      ],
      "source": [
        "bottleneck_data=pd.DataFrame(predict)\n",
        "file_corr=pd.concat([bottleneck_data,HDF45],axis=1)\n",
        "file_corr.shape"
      ]
    },
    {
      "cell_type": "code",
      "execution_count": null,
      "metadata": {
        "colab": {
          "base_uri": "https://localhost:8080/"
        },
        "id": "5WqrRh5lB2NP",
        "outputId": "cb28481c-e158-49b0-ab9d-7ff8406eff5b"
      },
      "outputs": [
        {
          "output_type": "stream",
          "name": "stdout",
          "text": [
            "496\n",
            "(100, 495)\n"
          ]
        }
      ],
      "source": [
        "from scipy.stats import kendalltau \n",
        "p=[]\n",
        "file_pvalue=file_corr.copy()\n",
        "for i in file_corr.columns:\n",
        "  tau,p_value=kendalltau(file_corr[i],file_corr['Hospital_free_days_45'])\n",
        "  p.append(p_value)\n",
        "  if p_value>0.05:\n",
        "    file_pvalue.drop([i],axis=1,inplace=True)\n",
        "file_pvalue.drop(['Hospital_free_days_45'],axis=1,inplace=True)\n",
        "print(np.sum(abs(np.asarray(p))<0.05))\n",
        "file_pvalue.shape\n",
        "X_p=file_pvalue.values\n",
        "print(X_p.shape)"
      ]
    },
    {
      "cell_type": "code",
      "execution_count": null,
      "metadata": {
        "colab": {
          "base_uri": "https://localhost:8080/"
        },
        "id": "O2XeieU3atAZ",
        "outputId": "1ad60e36-a6d6-47cf-f9c6-859339d67e1d"
      },
      "outputs": [
        {
          "output_type": "stream",
          "name": "stdout",
          "text": [
            "100000\n",
            "106\n"
          ]
        },
        {
          "output_type": "stream",
          "name": "stderr",
          "text": [
            "/usr/local/lib/python3.7/dist-packages/sklearn/linear_model/_coordinate_descent.py:648: ConvergenceWarning: Objective did not converge. You might want to increase the number of iterations, check the scale of the features or consider increasing regularisation. Duality gap: 6.068e+02, tolerance: 2.736e+02\n",
            "  coef_, l1_reg, l2_reg, X, y, max_iter, tol, rng, random, positive\n"
          ]
        }
      ],
      "source": [
        "import numpy as np\n",
        "from sklearn import linear_model\n",
        "\n",
        "x_data=X_p\n",
        "y_data=np.asarray(HDF45)\n",
        "model=linear_model.ElasticNet(max_iter=100000,tol=1e-2,l1_ratio=0.5)\n",
        "model.fit(x_data,y_data)\n",
        "#print(model.alpha)\n",
        "#print(model.coef_)\n",
        "print(model.n_iter_)\n",
        "print(np.sum(abs(np.asarray(model.coef_))>0))"
      ]
    },
    {
      "cell_type": "code",
      "execution_count": null,
      "metadata": {
        "colab": {
          "base_uri": "https://localhost:8080/"
        },
        "id": "5nEpulGlsQkj",
        "outputId": "87a71f7d-cadd-4ba7-8a71-35a810fd6a9a"
      },
      "outputs": [
        {
          "output_type": "stream",
          "name": "stdout",
          "text": [
            "(495,)\n",
            "(495, 100)\n",
            "(106, 100)\n",
            "(100, 106)\n"
          ]
        }
      ],
      "source": [
        "print(model.coef_.shape)\n",
        "print(X_p.T.shape)\n",
        "X_EN=[]\n",
        "for i in range(len(X_p.T)):\n",
        "  if abs(model.coef_[i])>0:\n",
        "    X_EN.append(X_p.T[i])\n",
        "print(np.asarray(X_EN).shape)\n",
        "X_EN=np.asarray(X_EN).T\n",
        "print(np.asarray(X_EN).shape)"
      ]
    },
    {
      "cell_type": "markdown",
      "metadata": {
        "id": "Z002YL355NDg"
      },
      "source": [
        "# Feature engineering 2-PCA"
      ]
    },
    {
      "cell_type": "code",
      "execution_count": null,
      "metadata": {
        "id": "CnfIeHJk5Puw"
      },
      "outputs": [],
      "source": [
        "#feature extraction PCA,for severity\n",
        "from sklearn.decomposition import PCA  \n",
        "from pandas.core.frame import DataFrame\n",
        "\n",
        "pca_sk = PCA(n_components=40)\n",
        "PCA_res = pca_sk.fit_transform(X_in)  \n",
        "\n",
        "PCA_res = DataFrame(PCA_res)\n",
        "PCA_res.head(10)\n",
        "PCA_res.shape"
      ]
    },
    {
      "cell_type": "markdown",
      "metadata": {
        "id": "Dumn7mIY5K1y"
      },
      "source": [
        "# CLustering"
      ]
    },
    {
      "cell_type": "code",
      "execution_count": null,
      "metadata": {
        "colab": {
          "base_uri": "https://localhost:8080/",
          "height": 520
        },
        "id": "kpsujivy389Y",
        "outputId": "70fdda3b-6da6-408f-d0f4-7907a72bbe3b"
      },
      "outputs": [
        {
          "output_type": "display_data",
          "data": {
            "text/plain": [
              "<Figure size 720x504 with 1 Axes>"
            ],
            "image/png": "[encoded data removed]"
          },
          "metadata": {
            "needs_background": "light"
          }
        }
      ],
      "source": [
        "from sklearn.cluster import KMeans\n",
        "sse = []\n",
        "kmax = 10\n",
        "X=X_EN\n",
        "for i in range(1,kmax+1): \n",
        "    kmeans = KMeans(n_clusters=i, init ='k-means++', max_iter=2000, n_init=10,random_state=40 )\n",
        "    kmeans.fit(X)\n",
        "    centroids = kmeans.cluster_centers_\n",
        "    pred_clusters = kmeans.predict(X)\n",
        "    curr_sse = 0\n",
        "    # calculate square of Euclidean distance of each point from its cluster center and add to current WSS\n",
        "    for i in range(len(X)):\n",
        "        curr_center = np.array(centroids[pred_clusters[i]])\n",
        "        curr_point = X[i]\n",
        "        curr_sse += sum((curr_point-curr_center)**2)     \n",
        "    sse.append(curr_sse)\n",
        "\n",
        "plt.figure(figsize=(10,7))     \n",
        "plt.xticks(fontsize= 20)\n",
        "plt.yticks(fontsize= 20)\n",
        "plt.plot(range(1,kmax+1),sse)\n",
        "plt.title('The Elbow Method Graph',fontsize= 30)\n",
        "plt.xlabel('Number of clusters',fontsize= 26)\n",
        "plt.ylabel('Within Cluster Sum of Squared Errors',fontsize= 26)\n",
        "plt.savefig(\"elbow.pdf\")\n",
        "plt.show()"
      ]
    },
    {
      "cell_type": "code",
      "execution_count": null,
      "metadata": {
        "colab": {
          "base_uri": "https://localhost:8080/"
        },
        "id": "aWne3oz06O_5",
        "outputId": "d39d76fc-112d-44ec-a2d5-09c9cca1cf53"
      },
      "outputs": [
        {
          "output_type": "stream",
          "name": "stdout",
          "text": [
            "[0 1 0 0 1 1 0 1 0 1 0 1 0 1 1 0 1 0 0 1 1 1 0 1 0 1 1 1 0 0 1 1 0 0 1 0 1\n",
            " 0 1 1 1 1 1 0 1 1 0 1 0 1 1 0 0 1 1 0 0 0 0 0 1 0 1 0 0 0 0 1 0 1 0 0 1 0\n",
            " 1 1 0 0 1 1 0 1 0 0 0 1 1 1 1 0 0 0 1 0 0 1 0 1 0 0]\n"
          ]
        }
      ],
      "source": [
        "kmeans = KMeans(n_clusters=2, init ='k-means++', max_iter=2000, n_init=10,random_state=40 )\n",
        "kmeans.fit(X_EN)\n",
        "centroids = kmeans.cluster_centers_\n",
        "pred_clusters = kmeans.predict(X_EN)\n",
        "y=pred_clusters\n",
        "print(y)"
      ]
    },
    {
      "cell_type": "code",
      "execution_count": null,
      "metadata": {
        "colab": {
          "base_uri": "https://localhost:8080/"
        },
        "id": "IbS1GDbpqEYI",
        "outputId": "de4ce52d-d9f9-4073-c6a9-f26d6a5ed4e7"
      },
      "outputs": [
        {
          "name": "stdout",
          "output_type": "stream",
          "text": [
            "(100, 32)\n"
          ]
        }
      ],
      "source": [
        "file_info=pd.read_csv('/content/drive/MyDrive/info.csv')\n",
        "file_info.head\n",
        "file_info_label=file_info.iloc[:100,:].copy()\n",
        "print(file_info_label.shape)\n",
        "\n",
        "df = pd.DataFrame(columns=['label'])\n",
        "for i in y:\n",
        "  df = df.append({'label': i}, ignore_index=True)\n",
        "\n",
        "file_info_label=pd.concat([file_info_label,df], axis=1)\n",
        "\n",
        "file_info_label.to_csv('file_info_label.csv')"
      ]
    },
    {
      "cell_type": "code",
      "execution_count": null,
      "metadata": {
        "colab": {
          "base_uri": "https://localhost:8080/",
          "height": 611
        },
        "id": "fOxUj0t57wID",
        "outputId": "d8643f5f-e088-4d61-a6ab-e544ccff76d6"
      },
      "outputs": [
        {
          "data": {
            "image/png": "[encoded data removed]",
            "text/plain": [
              "<Figure size 720x720 with 1 Axes>"
            ]
          },
          "metadata": {},
          "output_type": "display_data"
        }
      ],
      "source": [
        "from sklearn.decomposition import PCA  \n",
        "pca_sk = PCA(n_components=2)\n",
        "X_cluster2 = pca_sk.fit_transform(X_EN) \n",
        "import matplotlib.pyplot as plt\n",
        "plt.figure(figsize=(10, 10))  # 设置画布\n",
        "# 绘制每个类别的散点图\n",
        "x1=[]\n",
        "x2=[]\n",
        "for i in range(len(y)):\n",
        "  if y[i]==0:\n",
        "    x1.append(X_cluster2[i])\n",
        "  else:\n",
        "    x2.append(X_cluster2[i])\n",
        "\n",
        "x1=np.asarray(x1)\n",
        "x2=np.asarray(x2)\n",
        "\n",
        "plt.scatter(x1[:][:,0],x1[:][:,1], label='0')\n",
        "plt.scatter(x2[:][:,0],x2[:][:,1], label='1')\n",
        "# 绘制聚类中心\n",
        "\n",
        "pca_sk = PCA(n_components=2)\n",
        "X_cluster3 = pca_sk.fit_transform(centroids)  \n",
        "plt.scatter(X_cluster3[:, 0],X_cluster3[:, 1], marker=\"+\", s=300)\n",
        "plt.xlabel('Feature1',fontsize=16)\n",
        "plt.ylabel('Feature2',fontsize=16)\n",
        "plt.legend(['subgroup1','subgroup2'],fontsize=16)\n",
        "plt.savefig('clusters.pdf')  # 生成图例\n",
        "plt.show()"
      ]
    },
    {
      "cell_type": "markdown",
      "metadata": {
        "id": "5F6pDveJ8ZuR"
      },
      "source": [
        "# ANOVA\n"
      ]
    },
    {
      "cell_type": "code",
      "execution_count": null,
      "metadata": {
        "colab": {
          "base_uri": "https://localhost:8080/",
          "height": 245
        },
        "id": "LGN1f8WykbSh",
        "outputId": "a2b5dfed-5ae2-45ab-d849-3152c523a4f7"
      },
      "outputs": [
        {
          "ename": "NameError",
          "evalue": "ignored",
          "output_type": "error",
          "traceback": [
            "\u001b[0;31m---------------------------------------------------------------------------\u001b[0m",
            "\u001b[0;31mNameError\u001b[0m                                 Traceback (most recent call last)",
            "\u001b[0;32m<ipython-input-23-249fa66db3a5>\u001b[0m in \u001b[0;36m<module>\u001b[0;34m()\u001b[0m\n\u001b[1;32m      1\u001b[0m \u001b[0mytest\u001b[0m\u001b[0;34m=\u001b[0m\u001b[0;34m[\u001b[0m\u001b[0;34m]\u001b[0m\u001b[0;34m\u001b[0m\u001b[0;34m\u001b[0m\u001b[0m\n\u001b[0;32m----> 2\u001b[0;31m \u001b[0;32mfor\u001b[0m \u001b[0mh\u001b[0m \u001b[0;32min\u001b[0m \u001b[0mHDF45_ls\u001b[0m\u001b[0;34m:\u001b[0m\u001b[0;34m\u001b[0m\u001b[0;34m\u001b[0m\u001b[0m\n\u001b[0m\u001b[1;32m      3\u001b[0m   \u001b[0;32mif\u001b[0m \u001b[0mh\u001b[0m\u001b[0;34m<=\u001b[0m\u001b[0;36m26\u001b[0m\u001b[0;34m:\u001b[0m\u001b[0;34m\u001b[0m\u001b[0;34m\u001b[0m\u001b[0m\n\u001b[1;32m      4\u001b[0m     \u001b[0mytest\u001b[0m\u001b[0;34m.\u001b[0m\u001b[0mappend\u001b[0m\u001b[0;34m(\u001b[0m\u001b[0;34m'a'\u001b[0m\u001b[0;34m)\u001b[0m\u001b[0;34m\u001b[0m\u001b[0;34m\u001b[0m\u001b[0m\n\u001b[1;32m      5\u001b[0m   \u001b[0;32melse\u001b[0m\u001b[0;34m:\u001b[0m\u001b[0;34m\u001b[0m\u001b[0;34m\u001b[0m\u001b[0m\n",
            "\u001b[0;31mNameError\u001b[0m: name 'HDF45_ls' is not defined"
          ]
        }
      ],
      "source": [
        "ytest=[]\n",
        "for h in HDF45_ls:\n",
        "  if h<=26:\n",
        "    ytest.append('a')\n",
        "  else:\n",
        "    ytest.append('b')\n",
        "print(ytest)\n",
        "ytest=np.asarray(ytest)"
      ]
    },
    {
      "cell_type": "code",
      "execution_count": null,
      "metadata": {
        "id": "2dF8Affq8cYc",
        "colab": {
          "base_uri": "https://localhost:8080/"
        },
        "outputId": "f87b7b9d-0474-441c-e3d5-33463fe3981e"
      },
      "outputs": [
        {
          "output_type": "stream",
          "name": "stdout",
          "text": [
            "[[17.86263344 16.1374984  19.45333113 ... 15.78081765 16.40192482\n",
            "  17.99641482]\n",
            " [20.02304572 18.11433143 21.41475697 ... 14.58193992 15.47439188\n",
            "  16.87187779]\n",
            " [18.9997208  15.84573901 20.77628433 ... 15.37434889 17.28958753\n",
            "  19.71213626]\n",
            " [18.34751921 18.45835703 20.04583399 ... 17.03058936 17.89068767\n",
            "  20.16605469]\n",
            " [19.66763519 18.00286615 21.50637675 ... 17.41859495 17.96617754\n",
            "  19.89913467]]\n",
            "[[0.41220511 0.32230953 0.49509526 ... 0.30372314 0.3360886  0.41917637]\n",
            " [0.56671812 0.47778616 0.63156156 ... 0.31320286 0.35478452 0.41989702]\n",
            " [0.47917348 0.30623254 0.57658703 ... 0.28038501 0.38540247 0.51823706]\n",
            " [0.37426484 0.38074869 0.4736137  ... 0.29722644 0.34754089 0.48064642]\n",
            " [0.48399746 0.39106252 0.58664435 ... 0.35844585 0.38901439 0.49692081]]\n",
            "(100, 647)\n",
            "(647,)\n",
            "{'AC 2:0_RT_1.273': 0.005757951476010712, 'AC 3:0_RT_1.408': 0.004892536771047553, 'AC 2:0_RT_1.413': 0.006616501120837611, 'AC 5:0_RT_2.381': 0.005570828787933604, 'AC 6:0_RT_4.344': 0.008888416191665919, 'Azithromycin_Unknown_mz_749.5155_+_RT_4.421': 0.016802839328887435, 'AC 8:0_RT_5.886': 0.007905644960730526, 'AC 8:0_RT_5.961': 0.007595612260178203, 'AC 10:0_RT_6.936': 0.006416798915140924, 'AC 12:0_RT_7.955': 0.006181592795753522, 'AC 13:0_RT_8.306': 0.005970918754366211, 'AC 14:1_RT_8.361': 0.00834262440456591, 'AC 14:1_RT_8.51': 0.008439529797095278, 'AC 14:0_RT_9.398': 0.007384250725668961, 'S1P d18:2_RT_9.609': 0.004272048443161955, 'LysoPC 14:0_RT_9.772': 0.0076193500079471295, 'AC 16:1_RT_9.841': 0.00916472767716761, 'AC 16:1_RT_9.93': 0.007771814263284417, 'LysoPC 14:0_RT_9.962': 0.007993148755392962, 'LysoPC 14:0_RT_10.102': 0.008123041457679066, 'LysoPC 18:3_RT_10.294': 0.0070221967651842845, 'LysoPI 20:4_RT_10.313': 0.0073079987382407485, 'LysoPC 20:5_RT_10.322': 0.011491722783476654, 'LysoPC 18:3_RT_10.433': 0.008450716940473734, 'AC 18:2_RT_10.451': 0.004891198185952294, 'LysoPI 18:2_RT_10.48': 0.009077780733220788, 'LysoPI 20:4_RT_10.506': 0.009596006796428769, 'LysoPC 16:1_RT_10.555': 0.0065975930834180786, 'S1P d18:1_RT_10.744': 0.0031289120863495323, 'LysoPC 15:0_RT_10.804': 0.005645846724113026, 'LysoPC 18:2_RT_10.861': 0.00486932389765487, 'LysoPC 22:6_RT_10.886': 0.006894424621099326, 'AC 16:0_RT_10.888': 0.003563546677819256, 'LysoPC 20:4_RT_10.912': 0.010282964975982587, 'LysoPC 15:0_RT_10.944': 0.005980734195516369, 'LysoPC 22:6_RT_11.011': 0.008309437266327727, 'AC 16:0_RT_11.031': 0.0035570466556876655, 'LysoPC 18:2_RT_11.045': 0.005728121230011367, 'LysoPI 16:0_RT_11.045': 0.011530684487662611, 'LysoPC 20:4_RT_11.056': 0.008838846151115468, 'LysoPE 18:2_RT_11.11': 0.006015518056592023, 'LysoPC 22:6_RT_11.159': 0.005084478503324227, 'LysoPE 22:6_RT_11.162': 0.005212470035573998, 'LysoPE 20:4_RT_11.171': 0.004793049247472122, 'LysoPC 18:2_RT_11.185': 0.006949224454591466, 'LysoPC 20:4_RT_11.201': 0.005124804075571662, 'S1P d18:0_RT_11.215': 0.006042867502895704, 'LysoPC 22:5_RT_11.35': 0.009572668662071872, 'LysoPE 22:6_RT_11.39': 0.005940259410387777, 'LysoPC 17:1_RT_11.401': 0.007364707133740603, 'LysoPE 18:2_RT_11.418': 0.006717653409074444, 'LysoPE 20:4_RT_11.434': 0.008891100429194198, 'LysoPI 18:1_RT_11.441': 0.00865595973501812, 'LysoPC 16:0_RT_11.461': 0.006713348282864876, 'AC 18:1_RT_11.494': 0.004155871838934371, 'LysoPC 20:3_RT_11.543': 0.010806487154373674, 'LysoPC 18:2_RT_11.623': 0.01047653236442911, 'LysoPC 22:5_RT_11.654': 0.009471415877070333, 'LysoPC 20:3_RT_11.724': 0.011247757547364692, 'LysoPE 16:0_RT_11.73': 0.006305602774908584, 'LysoPC 16:0_RT_11.845': 0.004949637395904979, 'LysoPC 20:3_RT_11.872': 0.009750247905634581, 'LysoPE 22:5_RT_11.89': 0.007078974833485476, 'LysoPC 18:1_RT_11.924': 0.007548806910284227, 'LysoPE 16:0_RT_11.938': 0.006472043754768088, 'LysoPC 22:5_RT_12.087': 0.011811699118109881, 'LysoPE 16:0_RT_12.1': 0.006967822472046922, 'LysoPE 20:3_RT_12.114': 0.007519651893776203, 'LysoPC 18:1_RT_12.156': 0.00930967591305456, 'LysoPC 20:3_RT_12.285': 0.01275492101681493, 'LysoPC 22:4_RT_12.289': 0.010541628762665898, 'LysoPC 18:1_RT_12.292': 0.007226763789326089, 'LysoPE 22:5_RT_12.334': 0.010574223688744406, 'LysoPE 18:1_RT_12.552': 0.009090725703345568, 'LysoPC 18:1_RT_12.593': 0.006530509853090042, 'LysoPC 22:4_RT_12.605': 0.011478008217474188, 'LysoPC 17:0_RT_12.788': 0.006173108914581837, 'LysoPC 20:2_RT_12.854': 0.00992594451276344, 'LysoPE 18:1_RT_12.854': 0.009137579562030733, 'AC 18:0_RT_12.884': 0.004738698442618334, 'CerP d18:0_3:0_RT_12.983': 0.0076491021478631216, 'LysoPC 18:0_RT_13.346': 0.005583353141779656, 'SM d31:1_RT_18.595': 0.006821142173207051, 'SM d33:2_RT_19.085': 0.003735629176514323, 'SM d32:1_RT_19.275': 0.005239060339017886, 'PC 36:6_RT_19.422': 0.0077238795070930615, 'PC 32:3_RT_19.484': 0.005250779573775795, 'PC 34:5_RT_19.538': 0.008797461245751674, 'PC 28:0_RT_19.548': 0.005416501219434975, 'PI 16:1_16:0_RT_19.774': 0.0070280879440339904, 'PC 34:4_RT_19.819': 0.006225472504363974, 'PC 36:6_RT_19.83': 0.009334806509947457, 'PC 14:0_16:1_RT_19.875': 0.007481646562608706, 'SM d32:0_RT_20.014': 0.004916125519286177, 'SM d33:1_RT_20.062': 0.005118804592272387, 'PI 38:6_RT_20.119': 0.005612319778509056, 'PC 40:9_RT_20.185': 0.007103922792921099, 'PC 32:2_RT_20.199': 0.015461273180405662, 'SM d36:3_RT_20.199': 0.003290382886690425, 'PI 16:0_18:2_RT_20.206': 0.0028669987888040264, 'SM d33:1_RT_20.207': 0.0019949707925669066, 'PI 36:4_RT_20.232': 0.0036079134132916647, 'PC 33:3_RT_20.236': 0.0066289141063536165, 'PC 36:6_RT_20.245': 0.005999513945968967, 'PC 18:2_20:5_RT_20.256': 0.006360199254130361, 'PC 38:8_RT_20.259': 0.00749148737817987, 'PC 18:3_18:2_RT_20.263': 0.005800702904568394, 'PC 29:0_RT_20.286': 0.0060756199015541655, 'PC 33:3_RT_20.321': 0.004143821265001926, 'SM d36:3_RT_20.353': 0.003288063279983175, 'PC 32:2_RT_20.361': 0.003057186695507032, 'PC 34:5_RT_20.361': 0.003580949646791077, 'PC 36:7_RT_20.368': 0.0053082343874454605, 'PC 14:0_20:4_RT_20.369': 0.002792485561978961, 'PI 18:2_18:1_RT_20.436': 0.005883298244246594, 'PI 38:5_RT_20.439': 0.0034147194262617213, 'PC 38:7_RT_20.506': 0.004202080264348316, 'SM d35:2_RT_20.586': 0.002891134507223192, 'PC 15:0_16:1_RT_20.626': 0.004685513910249472, 'PC 38:8_RT_20.644': 0.007531387694048609, 'PC 16:1_20:4_RT_20.646': 0.005730379135849344, 'PC 16:1_18:2_RT_20.653': 0.0034221293053048364, 'PC 36:6_RT_20.655': 0.006753225635056774, 'PI 36:3_RT_20.661': 0.006827098169181719, 'PI 38:5_RT_20.722': 0.005982363437423801, 'PC 34:4_RT_20.736': 0.00485439501440808, 'SM d33:0_RT_20.755': 0.004578398757164643, 'PC 35:4_RT_20.797': 0.004856342231299869, 'PC 42:10_RT_20.814': 0.0034914498325547315, 'PC 36:6_RT_20.819': 0.002614770174079564, 'PI 17:0_18:2_RT_20.852': 0.006100989837620919, 'PE 18:1_18:1_RT_20.883': 0.005436209906712773, 'PC 37:6_RT_20.919': 0.0025183316767359272, 'PC 40:8_RT_20.931': 0.004764525011645499, 'SM d34:1_RT_20.942': 0.00047259680573769503, 'PC 34:3_RT_20.951': 0.0012852235914026242, 'PC 16:0_20:5_RT_20.978': 0.0031894016002103833, 'PC 14:0_16:0_RT_21.017': 0.002366310246506709, 'PI 16:0_18:1_RT_21.06': 0.004364745719019863, 'PC 15:0_18:2_RT_21.062': 0.0017038238202926872, 'PC 15:0_20:4_RT_21.064': 0.0026091269951003006, 'PC 37:7_RT_21.069': 0.00666804797713955, 'PC 18:2_18:2_RT_21.077': 0.0030247342493661305, 'PC 18:2_20:4_RT_21.079': 0.00278704152498721, 'PC 44:9_RT_21.117': 0.0034695034914904777, 'PC 34:3_RT_21.162': 0.007353218828803904, 'PC 39:7_RT_21.174': 0.004105189153722303, 'PC 42:9_RT_21.184': 0.003976955297319678, 'DG 12:0_18:3_RT_21.189': 0.012773407149182202, 'PC 40:9_RT_21.201': 0.0047597343386855465, 'DG 12:0_14:0_RT_21.212': 0.01214383699467857, 'PC 40:7_RT_21.242': 0.003859791861582285, 'PC 37:5_RT_21.269': 0.002138421564935188, 'SM d36:2_RT_21.272': 0.0010908273440099303, 'PE 16:0_18:3_RT_21.276': 0.006278244551767089, 'PE 16:0_20:5_RT_21.288': 0.006604491230014101, 'PC 17:1_18:2_RT_21.3': 0.0018850503682188813, 'PC 32:1_RT_21.303': 0.0024541567860466313, 'PC 34:4_RT_21.303': 0.0023861592455336096, 'SM d35:1_RT_21.346': 0.00398088114498778, 'PI 40:6_RT_21.364': 0.003118731046338018, 'PC 35:6_RT_21.377': 0.00561991428122772, 'PC 39:5_RT_21.387': 0.01122601092848547, 'Plasmanyl-PC O-36:5_RT_21.406': 0.008392243959005764, 'PC 33:4_RT_21.412': 0.008523085533921154, 'PC 38:7_RT_21.412': 0.00612124742794052, 'PC 36:4_RT_21.431': 0.006073441917121234, 'PC 31:0_RT_21.444': 0.004565097459979054, 'PE 38:6_RT_21.449': 0.006208059072614069, 'SM d34:0_RT_21.47': 0.001322896302252099, 'PI 18:2_18:0_RT_21.475': 0.0016591850322664615, 'PC 20:4_20:3_RT_21.475': 0.004000531226021641, 'PI 18:0_20:4_RT_21.484': 0.0011312250433561692, 'SM d38:3_RT_21.495': 0.0034962446911034114, 'PC 35:6_RT_21.502': 0.00626455325515036, 'PC 35:3_RT_21.517': 0.0046425019958413775, 'PS 16:0_18:1_RT_21.533': 0.007580805790590565, 'PC 40:9_RT_21.581': 0.0021355517287196604, 'PC O-36:5_RT_21.616': 0.00954058140241856, 'PC 37:5_RT_21.632': 0.006994555242173653, 'SM d35:1_RT_21.643': 0.0021719868438461816, 'PC 15:0_16:0_RT_21.664': 0.0035775313238002758, 'PC 16:0_20:4_RT_21.713': 0.001408382976489614, 'PC 16:0_18:2_RT_21.735': 0.00014293583620115233, 'Plasmanyl-PC O-36:5_RT_21.774': 0.007982831882691806, 'PC 18:1_22:6_RT_21.797': 0.0017027210288443032, 'SM d36:1_RT_21.82': 0.004605529645604381, 'PC 38:7_RT_21.824': 0.006269739976733858, 'Plasmanyl-PC O-30:0_RT_21.834': 0.005439565276021418, 'PC O-35:3_RT_21.843': 0.008460996505260644, 'PI 18:0_20:3_RT_21.881': 0.003912100081124698, 'PC 35:3_RT_21.905': 0.006624799954598206, 'PC 35:6_RT_21.906': 0.0025721279407547215, 'PC 38:5_RT_21.91': 0.0006677165722408175, 'Plasmanyl-PC O-38:6_RT_21.914': 0.005446215713914092, 'PC 42:8_RT_21.917': 0.005881787841408362, 'PS 36:2_RT_21.941': 0.007445246163433193, 'PC 18:2_18:1_RT_21.944': 0.0025513898825499366, 'PC 40:7_RT_21.948': 0.006326616617316203, 'PC 33:1_RT_21.951': 0.0011586121134741245, 'SM d37:2_RT_21.974': 0.005111858645254608, 'Plasmenyl-PE P-16:0_20:5_RT_21.988': 0.011237609072156419, 'PC 39:6_RT_21.993': 0.004235117772883557, 'DG 12:0_18:2_RT_21.999': 0.01329305607474441, 'PI 16:0_18:0_RT_22.017': 0.006120026539677236, 'PC 17:0_18:3_RT_22.021': 0.007875965058859987, 'Plasmenyl-PC P-16:0_16:1_RT_22.022': 0.011687027864547221, 'PC 36:5_RT_22.026': 0.0032034803267913968, 'PE 16:0_20:4_RT_22.05': 0.0020312427556298737, 'PC 42:8_RT_22.056': 0.004639598566436356, 'PS 18:2_18:2_RT_22.062': 0.003944366636079913, 'PE 16:0_18:2_RT_22.063': 0.0028443739785244636, 'PC 31:2_RT_22.064': 0.004119010131014692, 'PC 37:7_RT_22.084': 0.0062423800521454265, 'PC O-36:4_RT_22.086': 0.00845054100875341, 'PE 18:1_22:6_RT_22.094': 0.003936674957315261, 'PC 18:1_22:5_RT_22.095': 0.004464110613236192, 'Plasmanyl-PC O-32:1_RT_22.112': 0.004215090817074075, 'PC 17:0_20:4_RT_22.14': 0.002692545861243524, 'PC 17:0_18:2_RT_22.153': 0.0017658642846599517, 'PC 38:6_RT_22.155': 0.0017164896986914093, 'PC 37:5_RT_22.156': 0.00277866004715619, 'PC 16:0_20:3_RT_22.161': 0.0006977401914252959, 'Plasmenyl-PE P-18:1_20:5_RT_22.164': 0.005652126196782279, 'Plasmenyl-PC P-16:0_22:6_RT_22.172': 0.002889761499194343, 'PC 39:6_RT_22.203': 0.0019531081000634628, 'PC 40:6_RT_22.209': 0.002603444252342903, 'PC 35:5_RT_22.224': 0.004551121684953145, 'PI 18:1_18:0_RT_22.232': 0.003049254302259094, 'PE 38:5_RT_22.233': 0.002675786193329691, 'PC 40:8_RT_22.254': 0.003169638512795373, 'PC 33:3_RT_22.262': 0.005832371412472198, 'PE 18:2_18:1_RT_22.266': 0.004531603695168904, 'PC 38:5_RT_22.276': 0.0017497709947479436, 'DG 14:1_18:2_RT_22.279': 0.009059055779935264, 'Plasmanyl-PC O-38:6_RT_22.306': 0.002484057055154909, 'SM d36:1_RT_22.311': 0.0010037950669081095, 'PC 16:0_16:0_RT_22.328': 0.0005679650255185988, 'PC 40:7_RT_22.336': 0.0067170974279947985, 'Plasmanyl-PC O-36:5_RT_22.337': 0.0027609430574229766, 'Plasmenyl-PC P-16:0_20:4_RT_22.338': 0.0028058739562214162, 'PC 38:4_RT_22.339': 0.004173459317142229, 'PC O-40:7_RT_22.343': 0.004417173731732972, 'PC 37:4_RT_22.345': 0.0018556795639417239, 'PC 35:2_RT_22.357': 0.0007162313809615327, 'Plasmanyl-PC O-34:3_RT_22.376': 0.004053454638508931, 'Plasmenyl-PC P-16:0_18:2_RT_22.378': 0.0033253817302459003, 'PE 18:1_22:5_RT_22.405': 0.006882840333474471, 'PC 40:6_RT_22.445': 0.0032275598460987987, 'PC O-40:6_RT_22.452': 0.002213700821650726, 'PC 33:1_RT_22.457': 0.011365851902488028, 'Plasmanyl-PC O-31:0_RT_22.46': 0.005225350766720269, 'Plasmanyl-PC O-16:0_20:4_RT_22.462': 0.0018191706001818395, 'PI 18:0_20:2_RT_22.466': 0.0067057576921658694, 'PE 36:3_RT_22.469': 0.005627491730529164, 'DG 14:0_18:3_RT_22.47': 0.007973183653865519, 'Plasmanyl-PC O-16:0_18:2_RT_22.48': 0.0025549302716124326, 'PC 39:5_RT_22.483': 0.003026702894645874, 'PC 37:3_RT_22.493': 0.005988545325315311, 'Plasmanyl-PC O-38:6_RT_22.494': 0.0037294584234623977, 'Plasmenyl-PC P-38:5_RT_22.497': 0.0055817535591513555, 'PC 36:3_RT_22.509': 0.004300777394422219, 'Plasmenyl-PE P-16:0_22:6_RT_22.524': 0.0024752363341862447, 'PC 36:4_RT_22.532': 0.0018982977707717049, 'PC 16:0_18:1_RT_22.556': 0.00020340931861898893, 'PC 35:5_RT_22.592': 0.00664340919305302, 'PE 38:5_RT_22.592': 0.004057410763920948, 'PC 16:0_22:4_RT_22.611': 0.002146174089493526, 'SM d38:2_RT_22.612': 0.0019151578840748758, 'Plasmenyl-PC P-38:4_RT_22.616': 0.002174834906999219, 'Plasmanyl-PC O-38:5_RT_22.618': 0.0015148190661131852, 'Plasmanyl-PC O-36:3_RT_22.645': 0.0019958566503024745, 'Plasmenyl-PC P-18:0_18:2_RT_22.645': 0.002655626218230268, 'PE 38:4_RT_22.648': 0.006541493614462952, 'PE 17:0_20:4_RT_22.654': 0.004084872699214769, 'DG 28:0_RT_22.656': 0.011319220120523032, 'SM d37:1_RT_22.66': 0.007794198423299266, 'PE 17:0_18:2_RT_22.672': 0.005461505953049414, 'PC 37:7_RT_22.684': 0.005274028298086012, 'PC 16:0_17:0_RT_22.686': 0.002802574294291911, 'PS 18:1_18:0_RT_22.687': 0.0052100310381583735, 'DG 16:1_18:3_RT_22.689': 0.010074581662861525, 'Plasmenyl-PE P-18:1_22:6_RT_22.691': 0.0031010278843059944, 'Plasmenyl-PE P-16:0_20:4_RT_22.692': 0.0021930564993255628, 'SM d42:6_RT_22.699': 0.0039008065366134266, 'SM d40:3_RT_22.716': 0.0020255199996500753, 'Plasmenyl-PE P-16:0_18:2_RT_22.736': 0.007776277227407988, 'PC 39:5_RT_22.748': 0.004769696833510077, 'PC 17:0_20:3_RT_22.751': 0.003461979789309959, 'PC 38:5_RT_22.755': 0.0019135761067671031, 'SM d36:0_RT_22.758': 0.0035267815713334798, 'Plasmanyl-PC O-36:4_RT_22.759': 0.003646452044591642, 'Plasmenyl-PC P-36:3_RT_22.761': 0.005114716835676259, 'PC O-40:6_RT_22.763': 0.006609423340732401, 'Plasmenyl-PC P-18:0_22:5_RT_22.764': 0.0049659526645058185, 'Plasmanyl-PC O-40:6_RT_22.804': 0.0029733738459794667, 'PC 39:5_RT_22.818': 0.006524394136095437, 'PE O-36:3_RT_22.824': 0.010354584481139897, 'Plasmenyl-PC P-18:0_22:5_RT_22.836': 0.003826086338145532, 'Plasmanyl-PC O-38:6_RT_22.844': 0.004924103929700756, 'DG 30:1_RT_22.848': 0.01573862693779446, 'Plasmenyl-PE P-38:5_RT_22.849': 0.0028445069903451914, 'PC 42:7_RT_22.86': 0.0030036641353911047, 'PE 16:0_18:1_RT_22.866': 0.0035978456470516116, 'PC O-36:3_RT_22.866': 0.003791138821217061, 'PE 16:0_22:4_RT_22.895': 0.0064160232102630525, 'PC 18:0_20:4_RT_22.908': 0.001167988096764809, 'SM d37:1_RT_22.944': 0.003886988177870783, 'PC 18:2_18:0_RT_22.946': 0.0003041606064660142, 'Plasmenyl-PE P-38:4_RT_22.95': 0.009262262253960145, 'Plasmenyl-PE P-18:0_18:2_RT_22.986': 0.007528411265613255, 'PC 38:5_RT_22.988': 0.0019371514347685567, 'Plasmenyl-PC P-16:0_16:0_RT_22.993': 0.0035505946424416357, 'Plasmanyl-PC O-32:1_RT_22.998': 0.002422322401675968, 'Plasmanyl-PC O-38:5_RT_23.005': 0.006344479413896525, 'PC O-42:6_RT_23.02': 0.005899830722082155, 'Plasmanyl-PC O-38:4_RT_23.024': 0.004532266857838227, 'Plasmenyl-PC P-18:0_20:3_RT_23.024': 0.004094078714340929, 'PC 38:2_RT_23.029': 0.002168511269845184, 'PC 38:3_RT_23.032': 0.0013899195004738484, 'PC 33:2_RT_23.048': 0.006070868666892316, 'PC 40:5_RT_23.057': 0.0018349968414218822, 'Plasmanyl-PC O-16:0_16:0_RT_23.059': 0.0011991698981954348, 'DG 32:2_RT_23.06': 0.008677319699112904, 'Plasmanyl-PC O-35:2_RT_23.063': 0.0030227256782822455, 'PC 17:0_20:3_RT_23.063': 0.004974005674643299, 'Plasmanyl-PC O-34:3_RT_23.064': 0.004022996036487583, 'PC 37:6_RT_23.069': 0.002886197916136564, 'PS 18:0_18:0_RT_23.07': 0.002485277322062712, 'Plasmanyl-PC O-40:6_RT_23.104': 0.004249520913530642, 'PC 17:0_18:1_RT_23.126': 0.0010312934405048706, 'PC 42:6_RT_23.162': 0.0032128256428967366, 'Plasmenyl-PC P-16:0_22:4_RT_23.168': 0.006998916286895468, 'PC O-42:6_RT_23.169': 0.006471679674978838, 'Plasmanyl-PC O-38:5_RT_23.174': 0.005247308722250477, 'Plasmenyl-PE P-38:5_RT_23.176': 0.0037919005073713424, 'Plasmenyl-PC P-34:1_RT_23.185': 0.0035295555631356624, 'PC 39:4_RT_23.189': 0.004826110125372375, 'DG 14:0_18:2_RT_23.192': 0.009077927369620832, 'SM d39:2_RT_23.197': 0.003525216808125371, 'PC 37:7_RT_23.205': 0.0024340354426201027, 'Plasmanyl-PC O-34:1_RT_23.208': 0.0010153562536786484, 'PC 35:4_RT_23.212': 0.0017122519305385997, 'PE 18:0_20:4_RT_23.214': 0.0013818692534832732, 'Plasmenyl-PC P-34:0_RT_23.221': 0.0018203640467044189, 'PC 38:4_RT_23.223': 0.005016185211608692, 'SM d41:3_RT_23.226': 0.003061523679572337, 'PC 18:2_19:0_RT_23.234': 0.0035793743287975324, 'PC 33:2_RT_23.238': 0.00408369948487444, 'PE 36:2_RT_23.241': 0.002692654429092137, 'Plasmanyl-PC O-16:0_22:4_RT_23.273': 0.005335765184654202, 'PC O-40:6_RT_23.301': 0.003263818306724291, 'PC 18:0_20:3_RT_23.305': 0.0029124737722603794, 'PC 40:6_RT_23.31': 0.0030888414628384934, 'Plasmanyl-PC O-33:1_RT_23.321': 0.007028726470024391, 'Plasmenyl-PE P-18:1_22:5_RT_23.328': 0.0051317843693009305, 'PC 37:5_RT_23.337': 0.005395218284536581, 'PE 40:5_RT_23.338': 0.0031983448287723703, 'Plasmenyl-PC P-18:0_18:1_RT_23.399': 0.002868641181067025, 'Plasmanyl-PC O-36:2_RT_23.4': 0.0014845724030054003, 'PC 18:0_22:5_RT_23.405': 0.0034888119553329083, 'Plasmenyl-PC P-18:0_22:4_RT_23.405': 0.002337128621576293, 'PC 42:8_RT_23.406': 0.004324225458990063, 'Plasmanyl-PC O-40:6_RT_23.422': 0.002493098077892321, 'PE 35:1_RT_23.425': 0.005277076970430021, 'PC 42:6_RT_23.452': 0.00501603297037683, 'PC 19:0_20:4_RT_23.456': 0.002951646310708929, 'Plasmenyl-PC P-18:0_20:4_RT_23.463': 0.003308364968470959, 'Plasmanyl-PC O-38:5_RT_23.466': 0.0030602522843783454, 'PC 16:0_18:0_RT_23.478': 0.001204704121287719, 'PC O-42:6_RT_23.478': 0.005056408472267456, 'PC 18:2_19:0_RT_23.482': 0.002338044744610445, 'Plasmenyl-PE P-16:0_22:4_RT_23.483': 0.002544602576992896, 'Plasmanyl-PC O-38:6_RT_23.499': 0.006835410221413639, 'Plasmenyl-PE P-34:1_RT_23.503': 0.0037314326263765403, 'SM d38:1_RT_23.507': 0.0012079128332799735, 'Plasmanyl-PC O-36:3_RT_23.509': 0.0038013416664966888, 'Plasmenyl-PC P-18:0_18:2_RT_23.51': 0.003132318198543278, 'PC O-40:6_RT_23.572': 0.0035619378389876726, 'Plasmanyl-PC O-18:0_20:4_RT_23.573': 0.002608127632362485, 'Plasmanyl-PE O-34:1_RT_23.577': 0.009031008309930293, 'PE 18:0_20:3_RT_23.582': 0.0038601667048521597, 'PC 35:3_RT_23.583': 0.005640071096043019, 'Plasmanyl-PE O-16:0_22:4_RT_23.583': 0.005719749079061667, 'Plasmanyl-PC O-18:0_18:2_RT_23.604': 0.003282626955719851, 'Plasmanyl-PC O-33:0_RT_23.608': 0.003917749595409953, 'Plasmenyl-PE P-18:0_22:6_RT_23.611': 0.004761540714258028, 'PC 18:0_20:3_RT_23.612': 0.0046521887046291, 'Plasmenyl-PC P-20:0_20:4_RT_23.628': 0.0035042156483498566, 'Plasmanyl-PC O-40:5_RT_23.631': 0.0022985098980931647, 'PC 18:1_18:0_RT_23.662': 0.0010510769938613983, 'PC 18:0_22:4_RT_23.674': 0.003843586805266996, 'PE 18:0_22:5_RT_23.68': 0.0058686245479899375, 'Plasmenyl-PE P-18:0_22:5_RT_23.722': 0.01502282871655781, 'DG 15:0_18:2_RT_23.724': 0.010714319961370728, 'SM d40:2_RT_23.731': 0.0011148402387927505, 'PC 38:2_RT_23.745': 0.005511589610871597, 'SM d42:3_RT_23.747': 0.0007752222138012857, 'PC O-42:6_RT_23.756': 0.009119988526635349, 'SM d44:6_RT_23.762': 0.0014771139515497814, 'PC 35:0_RT_23.777': 0.005700842458599475, 'Plasmenyl-PE P-18:0_20:4_RT_23.778': 0.002597506501334249, 'DG 14:0_16:0_RT_23.781': 0.01623548400440984, 'SM d39:1_RT_23.786': 0.004378312959256371, 'Plasmanyl-PC O-38:4_RT_23.794': 0.007019808012926948, 'PC 39:3_RT_23.807': 0.004227040702115295, 'Plasmenyl-PE P-18:0_18:2_RT_23.828': 0.0056200298638745365, 'Plasmenyl-PC P-18:0_20:3_RT_23.833': 0.007151234979559304, 'Plasmanyl-PC O-42:6_RT_23.839': 0.004279341740509902, 'PC 42:5_RT_23.841': 0.003538548160216084, 'PC 18:0_20:2_RT_23.863': 0.0033958905262624134, 'SM d38:0_RT_23.871': 0.0037684173269200844, 'Plasmanyl-PE O-18:0_20:4_RT_23.874': 0.005906319662688456, 'Plasmanyl-PC O-40:4_RT_23.882': 0.005785738591717763, 'Plasmenyl-PE P-18:0_22:5_RT_23.887': 0.003014819454302149, 'DG 17:1_18:2_RT_23.889': 0.007761791255048517, 'PE 18:0_20:3_RT_23.897': 0.005170765813512545, 'Cer[NS] d36:1_RT_23.898': 0.00331879171413933, 'Plasmanyl-PC O-40:6_RT_23.903': 0.0043930324894538445, 'Plasmanyl-PE O-18:0_18:2_RT_23.91': 0.024008159706885815, 'SM d40:1_RT_23.912': 0.006133725690031769, 'Plasmanyl-PC O-18:0_20:3_RT_23.932': 0.004992791166642926, 'PE 18:0_22:4_RT_23.937': 0.004097087020777922, 'PC 37:4_RT_23.937': 0.005041892086277251, 'PE 18:1_18:0_RT_23.938': 0.003893236034765157, 'PC 37:7_RT_23.94': 0.006176394728929934, 'DG 32:1_RT_23.942': 0.01002299874902063, 'HexCer[NS] d38:1_RT_23.952': 0.0059975101208201405, 'PC 20:4_20:0_RT_23.954': 0.004270947687897957, 'Plasmanyl-PE O-18:0_22:5_RT_23.979': 0.008245190759321475, 'PC 42:5_RT_23.995': 0.0031011333533584777, 'PC O-42:5_RT_23.998': 0.005790750622656946, 'PC 40:3_RT_24.001': 0.0030966304693202645, 'Plasmanyl-PC O-18:0_22:5_RT_24.009': 0.00602035849689812, 'PE-NMe2 36:2_RT_24.015': 0.007994965113537995, 'SM d41:2_RT_24.027': 0.0019403466734348627, 'SM d39:1_RT_24.033': 0.004119423651045352, 'Plasmanyl-PC O-34:1_RT_24.047': 0.009368279743648117, 'SM d43:3_RT_24.049': 0.005247991213155476, 'Plasmanyl-PC O-18:0_16:0_RT_24.118': 0.0021119594063476557, 'SM d42:2_RT_24.136': 0.007474095629470318, 'PC 37:1_RT_24.136': 0.003204824367896026, 'PE 38:2_RT_24.142': 0.006353400787593454, 'HexCer[NS] d40:2_RT_24.145': 0.006733925223265717, 'Plasmenyl-PE P-18:0_20:3_RT_24.153': 0.005732613251060633, 'HexCer[NS] d42:3_RT_24.167': 0.0054216766376494205, 'PE 20:4_20:0_RT_24.174': 0.004894505833576739, 'Plasmanyl-PC O-42:5_RT_24.186': 0.004980098298803992, 'Plasmenyl-PC P-18:0_18:1_RT_24.192': 0.003919104137644725, 'Plasmanyl-PC O-36:2_RT_24.198': 0.0036604736131604794, 'Plasmenyl-PE P-18:0_22:5_RT_24.199': 0.00483661699721971, 'SM d43:3_RT_24.219': 0.00435458018898707, 'SM d41:2_RT_24.231': 0.0028780019037686023, 'Plasmanyl-PC O-18:0_22:4_RT_24.264': 0.006736598586303034, 'PC O-42:6_RT_24.271': 0.004386495093421976, 'Plasmanyl-PC O-36:1_RT_24.274': 0.002547514161468712, 'PC 20:3_20:0_RT_24.291': 0.007284386166755242, 'PC O-38:1_RT_24.34': 0.0027607493393857706, 'SM d39:0_RT_24.371': 0.008225112554309045, 'DG 33:1_RT_24.417': 0.00849497130814989, 'PC 42:4_RT_24.417': 0.005129299785726013, 'Plasmenyl-PC P-20:0_20:4_RT_24.437': 0.006248413724397419, 'Plasmanyl-PC O-42:6_RT_24.441': 0.004560807250992923, 'Plasmanyl-PC O-40:5_RT_24.445': 0.004710279439367002, 'PC 36:0_RT_24.458': 0.004359536458153736, 'Plasmenyl-PE P-18:0_22:4_RT_24.465': 0.0039981708156883395, 'Plasmenyl-PE P-18:0_18:1_RT_24.502': 0.0036772257273252184, 'SM d40:1_RT_24.508': 0.0007661360484676626, 'Plasmanyl-PC O-20:0_20:4_RT_24.538': 0.0033979143734906296, 'Plasmanyl-PC O-40:5_RT_24.539': 0.004732181417950529, 'Plasmanyl-PC O-42:5_RT_24.541': 0.0029547920195726104, 'Plasmanyl-PE O-18:0_22:4_RT_24.552': 0.012202900091755387, 'PC O-42:6_RT_24.558': 0.004649081156462468, 'PC 38:1_RT_24.568': 0.0038783127690645695, 'Plasmenyl-PE P-20:0_22:6_RT_24.57': 0.0031476141012179173, 'Plasmanyl-PC O-20:0_18:2_RT_24.576': 0.004315018565361288, 'Plasmanyl-PE O-18:0_18:1_RT_24.577': 0.017845807055656724, 'Plasmanyl-PC O-40:3_RT_24.597': 0.005264896384879246, 'DG 35:2_RT_24.614': 0.008932570640439428, 'Plasmanyl-PC O-40:5_RT_24.615': 0.0053643354428634825, 'PC 40:2_RT_24.655': 0.0037688183294382897, 'SM d44:3_RT_24.711': 0.0025622185708823715, 'Plasmenyl-PE P-20:0_20:4_RT_24.738': 0.0035653378772336976, 'SM d43:2_RT_24.77': 0.004075934390176284, 'Plasmenyl-PE P-20:0_18:2_RT_24.795': 0.004157545660801612, 'Plasmanyl-PC O-42:4_RT_24.809': 0.003884365838097218, 'SM d40:0_RT_24.855': 0.004953235802593672, 'SM d42:1_RT_24.856': 0.003328273439221777, 'PC 44:5_RT_24.87': 0.004188657469128438, 'Plasmanyl-PC O-42:5_RT_24.887': 0.006921451909888676, 'DG 16:0_18:1_RT_24.907': 0.006546254523328151, 'HexCer[NS] d42:2_RT_24.911': 0.004014533330889214, 'HexCer[NS] d40:1_RT_24.917': 0.004163193873561575, 'Cer[NS] d38:1_RT_24.924': 0.0026563411381715337, 'PC 40:2_RT_24.93': 0.003739495574579165, 'Cer[NS] d40:2_RT_24.951': 0.003716853006909454, 'SM d43:2_RT_24.976': 0.0021513261010157585, 'Plasmanyl-PC O-36:0_RT_25.084': 0.0029827381393398873, 'Cer[NS] d40:2_RT_25.12': 0.00362313228550798, 'Cer[NS] d42:3_RT_25.127': 0.0028448929667536206, 'Plasmanyl-PC O-38:1_RT_25.193': 0.014008974364301183, 'Plasmanyl-PC O-42:4_RT_25.199': 0.006897448440284043, 'SM d43:2_RT_25.206': 0.003599318866757138, 'Plasmanyl-PC O-38:1_RT_25.236': 0.0035809093044227797, 'Plasmanyl-PC O-40:2_RT_25.247': 0.0038181453045859157, 'SM d41:0_RT_25.35': 0.006167261717482751, 'Plasmanyl-PC O-42:5_RT_25.394': 0.010155558778919858, 'DG 17:0_18:1_RT_25.411': 0.009297771924915954, 'HexCer[NS] d41:1_RT_25.415': 0.005482878572370787, 'Cer[NS] d41:2_RT_25.439': 0.004343578165828952, 'Cer[NS] d39:1_RT_25.449': 0.003933963108013464, 'SM d44:2_RT_25.47': 0.0025032913167846293, 'Plasmanyl-PC O-42:4_RT_25.492': 0.0028328011632674194, 'Plasmanyl-PC O-40:2_RT_25.55': 0.0042236217960012505, 'Plasmanyl-PC O-42:5_RT_25.61': 0.007532150354856892, 'Cer[NS] d41:2_RT_25.636': 0.004715412345631725, 'SM d43:1_RT_25.778': 0.006501484763624467, 'Plasmanyl-PC O-44:4_RT_25.82': 0.00869837875858286, 'SM d42:0_RT_25.856': 0.006245691723912789, 'HexCer[NS] d42:1_RT_25.911': 0.004565280286103017, 'Cer[NS] d42:2_RT_25.936': 0.0020572778450279137, 'Cer[NS] d40:1_RT_25.948': 0.0021138254354302606, 'Cer[NS] d42:1_RT_25.987': 0.0064349249102139605, 'Cer[NS] d40:0_RT_25.992': 0.007431740821666671, 'SM d43:1_RT_25.994': 0.003412350350499543, 'Plasmanyl-PC O-40:1_RT_26.064': 0.0036061166243037813, 'Cer[NS] d42:2_RT_26.152': 0.003372847310837346, 'Plasmanyl-PC O-42:2_RT_26.202': 0.0032976552869160517, 'Cer[NS] d41:1_RT_26.473': 0.002378120642023367, 'SM d44:1_RT_26.502': 0.003533328460942627, 'TG 12:0_12:0_18:3_RT_26.893': 0.015012937382471302, 'Cer[NS] d44:2_RT_26.955': 0.003921996522078241, 'Cer[NS] d42:1_RT_26.996': 0.001644472077271379, 'TG 12:0_12:0_14:0_RT_27.15': 0.020451592605109332, 'Cer[NS] d43:1_RT_27.519': 0.003034457765280863, 'TG 12:0_12:0_18:2_RT_27.539': 0.020520767337957796, 'TG 8:0_15:0_16:0_RT_27.751': 0.014633667837132425, 'Cer[NS] d44:1_RT_28.019': 0.004376357158778507, 'TG 42:1_RT_28.302': 0.01393912018541038, 'TG 12:0_16:1_16:1_RT_28.529': 0.012972236822385116, 'TG 46:3_RT_28.628': 0.012451633021034324, 'TG 10:0_15:0_16:0_RT_28.707': 0.011520813242492867, 'TG 18:3_18:3_18:2_RT_28.754': 0.012847371055721655, 'TG 16:1_18:3_18:2_RT_29.232': 0.0036746038763595364, 'TG 44:1_RT_29.294': 0.011340930336257368, 'TG 18:3_18:2_18:2_RT_29.411': 0.00827361622332757, 'TG 46:2_RT_29.48': 0.004408737117037133, 'TG 48:3_RT_29.583': 0.003222513977838796, 'TG 51:5_RT_29.619': 0.003943856835319328, 'TG 17:2_18:2_18:2_RT_29.663': 0.004668780484514161, 'TG 16:1_16:1_18:2_RT_29.802': 0.005409081829377927, 'TG 48:3_RT_29.81': 0.006618961833301232, 'TG 16:1_18:2_18:2_RT_29.902': 0.008007610165333565, 'TG 47:2_RT_29.947': 0.004539563719779989, 'TG 15:0_16:1_18:2_RT_30.074': 0.004808457378554601, 'TG 16:0_18:3_18:2_RT_30.1': 0.002440669379328808, 'CE 18:4_RT_30.28': 0.009426005128501048, 'TG 51:4_RT_30.291': 0.003223711183869057, 'TG 46:1_RT_30.294': 0.004693168854295907, 'TG 48:2_RT_30.454': 0.005211297329373766, 'TG 45:0_RT_30.509': 0.005045665214346374, 'TG 48:2_RT_30.519': 0.003093439113501432, 'TG 50:3_RT_30.586': 0.0023748922421430166, 'TG 16:1_18:2_18:1_RT_30.661': 0.005733713371246395, 'CE 20:5_RT_30.667': 0.008370753009992753, 'TG 52:4_RT_30.801': 0.0014032175063698187, 'TG 47:1_RT_30.807': 0.0056430378652665494, 'TG 51:3_RT_31.108': 0.0019893536351889987, 'CE 22:6_RT_31.117': 0.0035647719948580865, 'CE 18:3_RT_31.121': 0.006959090184229556, 'TG 53:4_RT_31.174': 0.001703080090719992, 'TG 18:1_18:1_22:6_RT_31.185': 0.0021941753925585135, 'TG 53:4_RT_31.269': 0.0030117579486523324, 'TG 48:1_RT_31.337': 0.0031337720364612116, 'TG 50:2_RT_31.422': 0.00254618466463925, 'CE 20:4_RT_31.508': 0.004729789586062463, 'TG 16:0_18:2_18:1_RT_31.632': 0.0004450509567394076, 'TG 18:2_18:1_18:1_RT_31.726': 0.0006760753283315304, 'CE 16:1_RT_31.781': 0.009845771164513899, 'TG 56:5_RT_31.858': 0.0014602207241396934, 'TG 54:4_RT_31.88': 0.001965718768394226, 'TG 18:1_18:1_22:5_RT_31.889': 0.007650640076579531, 'TG 16:0_17:1_18:2_RT_31.898': 0.0087971280935631, 'TG 17:1_18:2_18:1_RT_31.917': 0.007867016984681126, 'CE 22:5_RT_31.95': 0.0067368298378585175, 'TG 53:3_RT_31.991': 0.0028668586860053813, 'CE 18:2_RT_32.007': 0.0008559891167879398, 'TG 51:2_RT_32.097': 0.00204979955588987, 'CE 20:4_RT_32.113': 0.008329668096365636, 'TG 53:3_RT_32.165': 0.002190339966898821, 'TG 18:1_18:1_20:3_RT_32.204': 0.0023245729496031344, 'CE 20:3_RT_32.238': 0.004533329221833267, 'TG 18:1_18:1_22:4_RT_32.271': 0.0020544172238632615, 'TG 51:1_RT_32.371': 0.004442139061987959, 'TG 53:2_RT_32.438': 0.0020262928882323187, 'TG 16:0_18:1_18:1_RT_32.478': 0.0003513259159834624, 'TG 56:5_RT_32.535': 0.0017292618456231116, 'TG 52:2_RT_32.632': 0.00588592668320262, 'TG 16:0_16:0_17:0_RT_32.646': 0.006330626954158005, 'TG 54:3_RT_32.648': 0.0011117351610556469, 'TG 56:4_RT_32.689': 0.0008364993376945258, 'TG 17:1_18:1_18:1_RT_32.765': 0.006322397004027604, 'TG 18:2_18:2_20:0_RT_32.878': 0.003839734610697495, 'CE 16:0_RT_32.94': 0.0018768652382567658, 'TG 17:0_18:1_18:1_RT_32.945': 0.0012866165967615143, 'CE 18:1_RT_32.982': 0.0010424297433208765, 'TG 18:2_18:1_19:0_RT_33.03': 0.0031342034881453136, 'CE 20:2_RT_33.113': 0.0035272082027169925, 'TG 18:2_18:2_21:0_RT_33.237': 0.004201177179049029, 'TG 53:1_RT_33.321': 0.004375979333059066, 'TG 54:2_RT_33.383': 0.0006368710101071355, 'TG 18:1_18:1_20:1_RT_33.426': 0.0013155442497895995, 'TG 18:1_18:1_18:1_RT_33.491': 0.002840246499239204, 'TG 58:4_RT_33.492': 0.0025683178607737605, 'TG 16:0_17:1_18:0_RT_33.516': 0.0036482885030657375, 'TG 17:0_18:1_18:0_RT_33.554': 0.003618954297251009, 'Alkanyl-TG O-16:0_16:0_16:0_RT_33.637': 0.0056838700379518315, 'TG 18:2_18:2_24:1_RT_33.654': 0.005055853195200427, 'Alkenyl-TG P-50:0_RT_33.665': 0.005889506721767754, 'TG 16:0_17:0_18:0_RT_33.68': 0.003517785378316907, 'Alkenyl-TG P-52:1_RT_33.685': 0.0030692004863506683, 'TG 18:2_18:2_22:0_RT_33.689': 0.00939819814219823, 'TG 53:1_RT_33.714': 0.002429736815004085, 'TG 18:1_18:1_19:0_RT_33.727': 0.004225762580541718, 'Alkenyl-TG P-18:0_18:1_18:1_RT_33.737': 0.005968035606927035, 'CE 18:0_RT_33.917': 0.0056701429699265804, 'TG 18:2_18:2_23:0_RT_34.024': 0.007433197976147416, 'TG 16:0_18:0_18:0_RT_34.031': 0.0024500091878233575, 'TG 56:2_RT_34.062': 0.0069500961990319465, 'TG 58:3_RT_34.075': 0.00393415199264318, 'TG 18:2_18:1_23:0_RT_34.141': 0.004881346916098548, 'TG 18:2_18:1_24:1_RT_34.162': 0.004507167646923902, 'TG 58:3_RT_34.198': 0.007398746405435415, 'TG 18:2_18:2_24:0_RT_34.336': 0.010843505616269806, 'TG 17:0_18:0_18:0_RT_34.344': 0.003956105090655639, 'TG 57:2_RT_34.449': 0.0065907316977393575, 'TG 18:2_18:1_23:0_RT_34.495': 0.008341062972838105, 'TG 18:2_18:2_25:0_RT_34.617': 0.010437126825765473, 'TG 18:1_18:1_23:0_RT_34.637': 0.006317181116903642, 'TG 18:1_18:1_24:1_RT_34.644': 0.0052131424101433356, 'TG 18:1_18:1_26:2_RT_34.687': 0.005386714932715717, 'TG 16:0_18:1_23:0_RT_34.914': 0.005821048825907652, 'TG 18:1_18:1_23:0_RT_34.956': 0.004900790604600597, 'TG 18:2_18:1_25:0_RT_35.015': 0.008482345880588483, 'TG 18:2_18:1_26:0_RT_35.131': 0.0068328955439537565, 'TG 16:0_16:0_24:0_RT_35.146': 0.005423671828028836, 'TG 18:1_18:1_24:0_RT_35.175': 0.005130980681241987}\n",
            "[('Plasmanyl-PE O-18:0_18:2_RT_23.91', 0.024008159706885815), ('TG 12:0_12:0_18:2_RT_27.539', 0.020520767337957796), ('TG 12:0_12:0_14:0_RT_27.15', 0.020451592605109332), ('Plasmanyl-PE O-18:0_18:1_RT_24.577', 0.017845807055656724), ('Azithromycin_Unknown_mz_749.5155_+_RT_4.421', 0.016802839328887435), ('DG 14:0_16:0_RT_23.781', 0.01623548400440984), ('DG 30:1_RT_22.848', 0.01573862693779446), ('PC 32:2_RT_20.199', 0.015461273180405662), ('Plasmenyl-PE P-18:0_22:5_RT_23.722', 0.01502282871655781), ('TG 12:0_12:0_18:3_RT_26.893', 0.015012937382471302), ('TG 8:0_15:0_16:0_RT_27.751', 0.014633667837132425), ('Plasmanyl-PC O-38:1_RT_25.193', 0.014008974364301183), ('TG 42:1_RT_28.302', 0.01393912018541038), ('DG 12:0_18:2_RT_21.999', 0.01329305607474441), ('TG 12:0_16:1_16:1_RT_28.529', 0.012972236822385116), ('TG 18:3_18:3_18:2_RT_28.754', 0.012847371055721655), ('DG 12:0_18:3_RT_21.189', 0.012773407149182202), ('LysoPC 20:3_RT_12.285', 0.01275492101681493), ('TG 46:3_RT_28.628', 0.012451633021034324), ('Plasmanyl-PE O-18:0_22:4_RT_24.552', 0.012202900091755387), ('DG 12:0_14:0_RT_21.212', 0.01214383699467857), ('LysoPC 22:5_RT_12.087', 0.011811699118109881), ('Plasmenyl-PC P-16:0_16:1_RT_22.022', 0.011687027864547221), ('LysoPI 16:0_RT_11.045', 0.011530684487662611), ('TG 10:0_15:0_16:0_RT_28.707', 0.011520813242492867), ('LysoPC 20:5_RT_10.322', 0.011491722783476654), ('LysoPC 22:4_RT_12.605', 0.011478008217474188), ('PC 33:1_RT_22.457', 0.011365851902488028), ('TG 44:1_RT_29.294', 0.011340930336257368), ('DG 28:0_RT_22.656', 0.011319220120523032), ('LysoPC 20:3_RT_11.724', 0.011247757547364692), ('Plasmenyl-PE P-16:0_20:5_RT_21.988', 0.011237609072156419), ('PC 39:5_RT_21.387', 0.01122601092848547), ('TG 18:2_18:2_24:0_RT_34.336', 0.010843505616269806), ('LysoPC 20:3_RT_11.543', 0.010806487154373674), ('DG 15:0_18:2_RT_23.724', 0.010714319961370728), ('LysoPE 22:5_RT_12.334', 0.010574223688744406), ('LysoPC 22:4_RT_12.289', 0.010541628762665898), ('LysoPC 18:2_RT_11.623', 0.01047653236442911), ('TG 18:2_18:2_25:0_RT_34.617', 0.010437126825765473), ('PE O-36:3_RT_22.824', 0.010354584481139897), ('LysoPC 20:4_RT_10.912', 0.010282964975982587), ('Plasmanyl-PC O-42:5_RT_25.394', 0.010155558778919858), ('DG 16:1_18:3_RT_22.689', 0.010074581662861525), ('DG 32:1_RT_23.942', 0.01002299874902063), ('LysoPC 20:2_RT_12.854', 0.00992594451276344), ('CE 16:1_RT_31.781', 0.009845771164513899), ('LysoPC 20:3_RT_11.872', 0.009750247905634581), ('LysoPI 20:4_RT_10.506', 0.009596006796428769), ('LysoPC 22:5_RT_11.35', 0.009572668662071872), ('PC O-36:5_RT_21.616', 0.00954058140241856), ('LysoPC 22:5_RT_11.654', 0.009471415877070333), ('CE 18:4_RT_30.28', 0.009426005128501048), ('TG 18:2_18:2_22:0_RT_33.689', 0.00939819814219823), ('Plasmanyl-PC O-34:1_RT_24.047', 0.009368279743648117), ('PC 36:6_RT_19.83', 0.009334806509947457), ('LysoPC 18:1_RT_12.156', 0.00930967591305456), ('DG 17:0_18:1_RT_25.411', 0.009297771924915954), ('Plasmenyl-PE P-38:4_RT_22.95', 0.009262262253960145), ('AC 16:1_RT_9.841', 0.00916472767716761), ('LysoPE 18:1_RT_12.854', 0.009137579562030733), ('PC O-42:6_RT_23.756', 0.009119988526635349), ('LysoPE 18:1_RT_12.552', 0.009090725703345568), ('DG 14:0_18:2_RT_23.192', 0.009077927369620832), ('LysoPI 18:2_RT_10.48', 0.009077780733220788), ('DG 14:1_18:2_RT_22.279', 0.009059055779935264), ('Plasmanyl-PE O-34:1_RT_23.577', 0.009031008309930293), ('DG 35:2_RT_24.614', 0.008932570640439428), ('LysoPE 20:4_RT_11.434', 0.008891100429194198), ('AC 6:0_RT_4.344', 0.008888416191665919), ('LysoPC 20:4_RT_11.056', 0.008838846151115468), ('PC 34:5_RT_19.538', 0.008797461245751674), ('TG 16:0_17:1_18:2_RT_31.898', 0.0087971280935631), ('Plasmanyl-PC O-44:4_RT_25.82', 0.00869837875858286), ('DG 32:2_RT_23.06', 0.008677319699112904), ('LysoPI 18:1_RT_11.441', 0.00865595973501812), ('PC 33:4_RT_21.412', 0.008523085533921154), ('DG 33:1_RT_24.417', 0.00849497130814989), ('TG 18:2_18:1_25:0_RT_35.015', 0.008482345880588483), ('PC O-35:3_RT_21.843', 0.008460996505260644), ('LysoPC 18:3_RT_10.433', 0.008450716940473734), ('PC O-36:4_RT_22.086', 0.00845054100875341), ('AC 14:1_RT_8.51', 0.008439529797095278), ('Plasmanyl-PC O-36:5_RT_21.406', 0.008392243959005764), ('CE 20:5_RT_30.667', 0.008370753009992753), ('AC 14:1_RT_8.361', 0.00834262440456591), ('TG 18:2_18:1_23:0_RT_34.495', 0.008341062972838105), ('CE 20:4_RT_32.113', 0.008329668096365636), ('LysoPC 22:6_RT_11.011', 0.008309437266327727), ('TG 18:3_18:2_18:2_RT_29.411', 0.00827361622332757), ('Plasmanyl-PE O-18:0_22:5_RT_23.979', 0.008245190759321475), ('SM d39:0_RT_24.371', 0.008225112554309045), ('LysoPC 14:0_RT_10.102', 0.008123041457679066), ('TG 16:1_18:2_18:2_RT_29.902', 0.008007610165333565), ('PE-NMe2 36:2_RT_24.015', 0.007994965113537995), ('LysoPC 14:0_RT_9.962', 0.007993148755392962), ('Plasmanyl-PC O-36:5_RT_21.774', 0.007982831882691806), ('DG 14:0_18:3_RT_22.47', 0.007973183653865519), ('AC 8:0_RT_5.886', 0.007905644960730526), ('PC 17:0_18:3_RT_22.021', 0.007875965058859987), ('TG 17:1_18:2_18:1_RT_31.917', 0.007867016984681126), ('SM d37:1_RT_22.66', 0.007794198423299266), ('Plasmenyl-PE P-16:0_18:2_RT_22.736', 0.007776277227407988), ('AC 16:1_RT_9.93', 0.007771814263284417), ('DG 17:1_18:2_RT_23.889', 0.007761791255048517), ('PC 36:6_RT_19.422', 0.0077238795070930615), ('TG 18:1_18:1_22:5_RT_31.889', 0.007650640076579531), ('CerP d18:0_3:0_RT_12.983', 0.0076491021478631216), ('LysoPC 14:0_RT_9.772', 0.0076193500079471295), ('AC 8:0_RT_5.961', 0.007595612260178203), ('PS 16:0_18:1_RT_21.533', 0.007580805790590565), ('LysoPC 18:1_RT_11.924', 0.007548806910284227), ('Plasmanyl-PC O-42:5_RT_25.61', 0.007532150354856892), ('PC 38:8_RT_20.644', 0.007531387694048609), ('Plasmenyl-PE P-18:0_18:2_RT_22.986', 0.007528411265613255), ('LysoPE 20:3_RT_12.114', 0.007519651893776203), ('PC 38:8_RT_20.259', 0.00749148737817987), ('PC 14:0_16:1_RT_19.875', 0.007481646562608706), ('SM d42:2_RT_24.136', 0.007474095629470318), ('PS 36:2_RT_21.941', 0.007445246163433193), ('TG 18:2_18:2_23:0_RT_34.024', 0.007433197976147416), ('Cer[NS] d40:0_RT_25.992', 0.007431740821666671), ('TG 58:3_RT_34.198', 0.007398746405435415), ('AC 14:0_RT_9.398', 0.007384250725668961), ('LysoPC 17:1_RT_11.401', 0.007364707133740603), ('PC 34:3_RT_21.162', 0.007353218828803904), ('LysoPI 20:4_RT_10.313', 0.0073079987382407485), ('PC 20:3_20:0_RT_24.291', 0.007284386166755242), ('LysoPC 18:1_RT_12.292', 0.007226763789326089), ('Plasmenyl-PC P-18:0_20:3_RT_23.833', 0.007151234979559304), ('PC 40:9_RT_20.185', 0.007103922792921099), ('LysoPE 22:5_RT_11.89', 0.007078974833485476), ('Plasmanyl-PC O-33:1_RT_23.321', 0.007028726470024391), ('PI 16:1_16:0_RT_19.774', 0.0070280879440339904), ('LysoPC 18:3_RT_10.294', 0.0070221967651842845), ('Plasmanyl-PC O-38:4_RT_23.794', 0.007019808012926948), ('Plasmenyl-PC P-16:0_22:4_RT_23.168', 0.006998916286895468), ('PC 37:5_RT_21.632', 0.006994555242173653), ('LysoPE 16:0_RT_12.1', 0.006967822472046922), ('CE 18:3_RT_31.121', 0.006959090184229556), ('TG 56:2_RT_34.062', 0.0069500961990319465), ('LysoPC 18:2_RT_11.185', 0.006949224454591466), ('Plasmanyl-PC O-42:5_RT_24.887', 0.006921451909888676), ('Plasmanyl-PC O-42:4_RT_25.199', 0.006897448440284043), ('LysoPC 22:6_RT_10.886', 0.006894424621099326), ('PE 18:1_22:5_RT_22.405', 0.006882840333474471), ('Plasmanyl-PC O-38:6_RT_23.499', 0.006835410221413639), ('TG 18:2_18:1_26:0_RT_35.131', 0.0068328955439537565), ('PI 36:3_RT_20.661', 0.006827098169181719), ('SM d31:1_RT_18.595', 0.006821142173207051), ('PC 36:6_RT_20.655', 0.006753225635056774), ('CE 22:5_RT_31.95', 0.0067368298378585175), ('Plasmanyl-PC O-18:0_22:4_RT_24.264', 0.006736598586303034), ('HexCer[NS] d40:2_RT_24.145', 0.006733925223265717), ('LysoPE 18:2_RT_11.418', 0.006717653409074444), ('PC 40:7_RT_22.336', 0.0067170974279947985), ('LysoPC 16:0_RT_11.461', 0.006713348282864876), ('PI 18:0_20:2_RT_22.466', 0.0067057576921658694), ('PC 37:7_RT_21.069', 0.00666804797713955), ('PC 35:5_RT_22.592', 0.00664340919305302), ('PC 33:3_RT_20.236', 0.0066289141063536165), ('PC 35:3_RT_21.905', 0.006624799954598206), ('TG 48:3_RT_29.81', 0.006618961833301232), ('AC 2:0_RT_1.413', 0.006616501120837611), ('PC O-40:6_RT_22.763', 0.006609423340732401), ('PE 16:0_20:5_RT_21.288', 0.006604491230014101), ('LysoPC 16:1_RT_10.555', 0.0065975930834180786), ('TG 57:2_RT_34.449', 0.0065907316977393575), ('DG 16:0_18:1_RT_24.907', 0.006546254523328151), ('PE 38:4_RT_22.648', 0.006541493614462952), ('LysoPC 18:1_RT_12.593', 0.006530509853090042), ('PC 39:5_RT_22.818', 0.006524394136095437), ('SM d43:1_RT_25.778', 0.006501484763624467), ('LysoPE 16:0_RT_11.938', 0.006472043754768088), ('PC O-42:6_RT_23.169', 0.006471679674978838), ('Cer[NS] d42:1_RT_25.987', 0.0064349249102139605), ('AC 10:0_RT_6.936', 0.006416798915140924), ('PE 16:0_22:4_RT_22.895', 0.0064160232102630525), ('PC 18:2_20:5_RT_20.256', 0.006360199254130361), ('PE 38:2_RT_24.142', 0.006353400787593454), ('Plasmanyl-PC O-38:5_RT_23.005', 0.006344479413896525), ('TG 16:0_16:0_17:0_RT_32.646', 0.006330626954158005), ('PC 40:7_RT_21.948', 0.006326616617316203), ('TG 17:1_18:1_18:1_RT_32.765', 0.006322397004027604), ('TG 18:1_18:1_23:0_RT_34.637', 0.006317181116903642), ('LysoPE 16:0_RT_11.73', 0.006305602774908584), ('PE 16:0_18:3_RT_21.276', 0.006278244551767089), ('PC 38:7_RT_21.824', 0.006269739976733858), ('PC 35:6_RT_21.502', 0.00626455325515036), ('Plasmenyl-PC P-20:0_20:4_RT_24.437', 0.006248413724397419), ('SM d42:0_RT_25.856', 0.006245691723912789), ('PC 37:7_RT_22.084', 0.0062423800521454265), ('PC 34:4_RT_19.819', 0.006225472504363974), ('PE 38:6_RT_21.449', 0.006208059072614069), ('AC 12:0_RT_7.955', 0.006181592795753522), ('PC 37:7_RT_23.94', 0.006176394728929934), ('LysoPC 17:0_RT_12.788', 0.006173108914581837), ('SM d41:0_RT_25.35', 0.006167261717482751), ('SM d40:1_RT_23.912', 0.006133725690031769), ('PC 38:7_RT_21.412', 0.00612124742794052), ('PI 16:0_18:0_RT_22.017', 0.006120026539677236), ('PI 17:0_18:2_RT_20.852', 0.006100989837620919), ('PC 29:0_RT_20.286', 0.0060756199015541655), ('PC 36:4_RT_21.431', 0.006073441917121234), ('PC 33:2_RT_23.048', 0.006070868666892316), ('S1P d18:0_RT_11.215', 0.006042867502895704), ('Plasmanyl-PC O-18:0_22:5_RT_24.009', 0.00602035849689812), ('LysoPE 18:2_RT_11.11', 0.006015518056592023), ('PC 36:6_RT_20.245', 0.005999513945968967), ('HexCer[NS] d38:1_RT_23.952', 0.0059975101208201405), ('PC 37:3_RT_22.493', 0.005988545325315311), ('PI 38:5_RT_20.722', 0.005982363437423801), ('LysoPC 15:0_RT_10.944', 0.005980734195516369), ('AC 13:0_RT_8.306', 0.005970918754366211), ('Alkenyl-TG P-18:0_18:1_18:1_RT_33.737', 0.005968035606927035), ('LysoPE 22:6_RT_11.39', 0.005940259410387777), ('Plasmanyl-PE O-18:0_20:4_RT_23.874', 0.005906319662688456), ('PC O-42:6_RT_23.02', 0.005899830722082155), ('Alkenyl-TG P-50:0_RT_33.665', 0.005889506721767754), ('TG 52:2_RT_32.632', 0.00588592668320262), ('PI 18:2_18:1_RT_20.436', 0.005883298244246594), ('PC 42:8_RT_21.917', 0.005881787841408362), ('PE 18:0_22:5_RT_23.68', 0.0058686245479899375), ('PC 33:3_RT_22.262', 0.005832371412472198), ('TG 16:0_18:1_23:0_RT_34.914', 0.005821048825907652), ('PC 18:3_18:2_RT_20.263', 0.005800702904568394), ('PC O-42:5_RT_23.998', 0.005790750622656946), ('Plasmanyl-PC O-40:4_RT_23.882', 0.005785738591717763), ('AC 2:0_RT_1.273', 0.005757951476010712), ('TG 16:1_18:2_18:1_RT_30.661', 0.005733713371246395), ('Plasmenyl-PE P-18:0_20:3_RT_24.153', 0.005732613251060633), ('PC 16:1_20:4_RT_20.646', 0.005730379135849344), ('LysoPC 18:2_RT_11.045', 0.005728121230011367), ('Plasmanyl-PE O-16:0_22:4_RT_23.583', 0.005719749079061667), ('PC 35:0_RT_23.777', 0.005700842458599475), ('Alkanyl-TG O-16:0_16:0_16:0_RT_33.637', 0.0056838700379518315), ('CE 18:0_RT_33.917', 0.0056701429699265804), ('Plasmenyl-PE P-18:1_20:5_RT_22.164', 0.005652126196782279), ('LysoPC 15:0_RT_10.804', 0.005645846724113026), ('TG 47:1_RT_30.807', 0.0056430378652665494), ('PC 35:3_RT_23.583', 0.005640071096043019), ('PE 36:3_RT_22.469', 0.005627491730529164), ('Plasmenyl-PE P-18:0_18:2_RT_23.828', 0.0056200298638745365), ('PC 35:6_RT_21.377', 0.00561991428122772), ('PI 38:6_RT_20.119', 0.005612319778509056), ('LysoPC 18:0_RT_13.346', 0.005583353141779656), ('Plasmenyl-PC P-38:5_RT_22.497', 0.0055817535591513555), ('AC 5:0_RT_2.381', 0.005570828787933604), ('PC 38:2_RT_23.745', 0.005511589610871597), ('HexCer[NS] d41:1_RT_25.415', 0.005482878572370787), ('PE 17:0_18:2_RT_22.672', 0.005461505953049414), ('Plasmanyl-PC O-38:6_RT_21.914', 0.005446215713914092), ('Plasmanyl-PC O-30:0_RT_21.834', 0.005439565276021418), ('PE 18:1_18:1_RT_20.883', 0.005436209906712773), ('TG 16:0_16:0_24:0_RT_35.146', 0.005423671828028836), ('HexCer[NS] d42:3_RT_24.167', 0.0054216766376494205), ('PC 28:0_RT_19.548', 0.005416501219434975), ('TG 16:1_16:1_18:2_RT_29.802', 0.005409081829377927), ('PC 37:5_RT_23.337', 0.005395218284536581), ('TG 18:1_18:1_26:2_RT_34.687', 0.005386714932715717), ('Plasmanyl-PC O-40:5_RT_24.615', 0.0053643354428634825), ('Plasmanyl-PC O-16:0_22:4_RT_23.273', 0.005335765184654202), ('PC 36:7_RT_20.368', 0.0053082343874454605), ('PE 35:1_RT_23.425', 0.005277076970430021), ('PC 37:7_RT_22.684', 0.005274028298086012), ('Plasmanyl-PC O-40:3_RT_24.597', 0.005264896384879246), ('PC 32:3_RT_19.484', 0.005250779573775795), ('SM d43:3_RT_24.049', 0.005247991213155476), ('Plasmanyl-PC O-38:5_RT_23.174', 0.005247308722250477), ('SM d32:1_RT_19.275', 0.005239060339017886), ('Plasmanyl-PC O-31:0_RT_22.46', 0.005225350766720269), ('TG 18:1_18:1_24:1_RT_34.644', 0.0052131424101433356), ('LysoPE 22:6_RT_11.162', 0.005212470035573998), ('TG 48:2_RT_30.454', 0.005211297329373766), ('PS 18:1_18:0_RT_22.687', 0.0052100310381583735), ('PE 18:0_20:3_RT_23.897', 0.005170765813512545), ('Plasmenyl-PE P-18:1_22:5_RT_23.328', 0.0051317843693009305), ('TG 18:1_18:1_24:0_RT_35.175', 0.005130980681241987), ('PC 42:4_RT_24.417', 0.005129299785726013), ('LysoPC 20:4_RT_11.201', 0.005124804075571662), ('SM d33:1_RT_20.062', 0.005118804592272387), ('Plasmenyl-PC P-36:3_RT_22.761', 0.005114716835676259), ('SM d37:2_RT_21.974', 0.005111858645254608), ('LysoPC 22:6_RT_11.159', 0.005084478503324227), ('PC O-42:6_RT_23.478', 0.005056408472267456), ('TG 18:2_18:2_24:1_RT_33.654', 0.005055853195200427), ('TG 45:0_RT_30.509', 0.005045665214346374), ('PC 37:4_RT_23.937', 0.005041892086277251), ('PC 38:4_RT_23.223', 0.005016185211608692), ('PC 42:6_RT_23.452', 0.00501603297037683), ('Plasmanyl-PC O-18:0_20:3_RT_23.932', 0.004992791166642926), ('Plasmanyl-PC O-42:5_RT_24.186', 0.004980098298803992), ('PC 17:0_20:3_RT_23.063', 0.004974005674643299), ('Plasmenyl-PC P-18:0_22:5_RT_22.764', 0.0049659526645058185), ('SM d40:0_RT_24.855', 0.004953235802593672), ('LysoPC 16:0_RT_11.845', 0.004949637395904979), ('Plasmanyl-PC O-38:6_RT_22.844', 0.004924103929700756), ('SM d32:0_RT_20.014', 0.004916125519286177), ('TG 18:1_18:1_23:0_RT_34.956', 0.004900790604600597), ('PE 20:4_20:0_RT_24.174', 0.004894505833576739), ('AC 3:0_RT_1.408', 0.004892536771047553), ('AC 18:2_RT_10.451', 0.004891198185952294), ('TG 18:2_18:1_23:0_RT_34.141', 0.004881346916098548), ('LysoPC 18:2_RT_10.861', 0.00486932389765487), ('PC 35:4_RT_20.797', 0.004856342231299869), ('PC 34:4_RT_20.736', 0.00485439501440808), ('Plasmenyl-PE P-18:0_22:5_RT_24.199', 0.00483661699721971), ('PC 39:4_RT_23.189', 0.004826110125372375), ('TG 15:0_16:1_18:2_RT_30.074', 0.004808457378554601), ('LysoPE 20:4_RT_11.171', 0.004793049247472122), ('PC 39:5_RT_22.748', 0.004769696833510077), ('PC 40:8_RT_20.931', 0.004764525011645499), ('Plasmenyl-PE P-18:0_22:6_RT_23.611', 0.004761540714258028), ('PC 40:9_RT_21.201', 0.0047597343386855465), ('AC 18:0_RT_12.884', 0.004738698442618334), ('Plasmanyl-PC O-40:5_RT_24.539', 0.004732181417950529), ('CE 20:4_RT_31.508', 0.004729789586062463), ('Cer[NS] d41:2_RT_25.636', 0.004715412345631725), ('Plasmanyl-PC O-40:5_RT_24.445', 0.004710279439367002), ('TG 46:1_RT_30.294', 0.004693168854295907), ('PC 15:0_16:1_RT_20.626', 0.004685513910249472), ('TG 17:2_18:2_18:2_RT_29.663', 0.004668780484514161), ('PC 18:0_20:3_RT_23.612', 0.0046521887046291), ('PC O-42:6_RT_24.558', 0.004649081156462468), ('PC 35:3_RT_21.517', 0.0046425019958413775), ('PC 42:8_RT_22.056', 0.004639598566436356), ('SM d36:1_RT_21.82', 0.004605529645604381), ('SM d33:0_RT_20.755', 0.004578398757164643), ('HexCer[NS] d42:1_RT_25.911', 0.004565280286103017), ('PC 31:0_RT_21.444', 0.004565097459979054), ('Plasmanyl-PC O-42:6_RT_24.441', 0.004560807250992923), ('PC 35:5_RT_22.224', 0.004551121684953145), ('TG 47:2_RT_29.947', 0.004539563719779989), ('CE 20:3_RT_32.238', 0.004533329221833267), ('Plasmanyl-PC O-38:4_RT_23.024', 0.004532266857838227), ('PE 18:2_18:1_RT_22.266', 0.004531603695168904), ('TG 18:2_18:1_24:1_RT_34.162', 0.004507167646923902), ('PC 18:1_22:5_RT_22.095', 0.004464110613236192), ('TG 51:1_RT_32.371', 0.004442139061987959), ('PC O-40:7_RT_22.343', 0.004417173731732972), ('TG 46:2_RT_29.48', 0.004408737117037133), ('Plasmanyl-PC O-40:6_RT_23.903', 0.0043930324894538445), ('PC O-42:6_RT_24.271', 0.004386495093421976), ('SM d39:1_RT_23.786', 0.004378312959256371), ('Cer[NS] d44:1_RT_28.019', 0.004376357158778507), ('TG 53:1_RT_33.321', 0.004375979333059066), ('PI 16:0_18:1_RT_21.06', 0.004364745719019863), ('PC 36:0_RT_24.458', 0.004359536458153736), ('SM d43:3_RT_24.219', 0.00435458018898707), ('Cer[NS] d41:2_RT_25.439', 0.004343578165828952), ('PC 42:8_RT_23.406', 0.004324225458990063), ('Plasmanyl-PC O-20:0_18:2_RT_24.576', 0.004315018565361288), ('PC 36:3_RT_22.509', 0.004300777394422219), ('Plasmanyl-PC O-42:6_RT_23.839', 0.004279341740509902), ('S1P d18:2_RT_9.609', 0.004272048443161955), ('PC 20:4_20:0_RT_23.954', 0.004270947687897957), ('Plasmanyl-PC O-40:6_RT_23.104', 0.004249520913530642), ('PC 39:6_RT_21.993', 0.004235117772883557), ('PC 39:3_RT_23.807', 0.004227040702115295), ('TG 18:1_18:1_19:0_RT_33.727', 0.004225762580541718), ('Plasmanyl-PC O-40:2_RT_25.55', 0.0042236217960012505), ('Plasmanyl-PC O-32:1_RT_22.112', 0.004215090817074075), ('PC 38:7_RT_20.506', 0.004202080264348316), ('TG 18:2_18:2_21:0_RT_33.237', 0.004201177179049029), ('PC 44:5_RT_24.87', 0.004188657469128438), ('PC 38:4_RT_22.339', 0.004173459317142229), ('HexCer[NS] d40:1_RT_24.917', 0.004163193873561575), ('Plasmenyl-PE P-20:0_18:2_RT_24.795', 0.004157545660801612), ('AC 18:1_RT_11.494', 0.004155871838934371), ('PC 33:3_RT_20.321', 0.004143821265001926), ('SM d39:1_RT_24.033', 0.004119423651045352), ('PC 31:2_RT_22.064', 0.004119010131014692), ('PC 39:7_RT_21.174', 0.004105189153722303), ('PE 18:0_22:4_RT_23.937', 0.004097087020777922), ('Plasmenyl-PC P-18:0_20:3_RT_23.024', 0.004094078714340929), ('PE 17:0_20:4_RT_22.654', 0.004084872699214769), ('PC 33:2_RT_23.238', 0.00408369948487444), ('SM d43:2_RT_24.77', 0.004075934390176284), ('PE 38:5_RT_22.592', 0.004057410763920948), ('Plasmanyl-PC O-34:3_RT_22.376', 0.004053454638508931), ('Plasmanyl-PC O-34:3_RT_23.064', 0.004022996036487583), ('HexCer[NS] d42:2_RT_24.911', 0.004014533330889214), ('PC 20:4_20:3_RT_21.475', 0.004000531226021641), ('Plasmenyl-PE P-18:0_22:4_RT_24.465', 0.0039981708156883395), ('SM d35:1_RT_21.346', 0.00398088114498778), ('PC 42:9_RT_21.184', 0.003976955297319678), ('TG 17:0_18:0_18:0_RT_34.344', 0.003956105090655639), ('PS 18:2_18:2_RT_22.062', 0.003944366636079913), ('TG 51:5_RT_29.619', 0.003943856835319328), ('PE 18:1_22:6_RT_22.094', 0.003936674957315261), ('TG 58:3_RT_34.075', 0.00393415199264318), ('Cer[NS] d39:1_RT_25.449', 0.003933963108013464), ('Cer[NS] d44:2_RT_26.955', 0.003921996522078241), ('Plasmenyl-PC P-18:0_18:1_RT_24.192', 0.003919104137644725), ('Plasmanyl-PC O-33:0_RT_23.608', 0.003917749595409953), ('PI 18:0_20:3_RT_21.881', 0.003912100081124698), ('SM d42:6_RT_22.699', 0.0039008065366134266), ('PE 18:1_18:0_RT_23.938', 0.003893236034765157), ('SM d37:1_RT_22.944', 0.003886988177870783), ('Plasmanyl-PC O-42:4_RT_24.809', 0.003884365838097218), ('PC 38:1_RT_24.568', 0.0038783127690645695), ('PE 18:0_20:3_RT_23.582', 0.0038601667048521597), ('PC 40:7_RT_21.242', 0.003859791861582285), ('PC 18:0_22:4_RT_23.674', 0.003843586805266996), ('TG 18:2_18:2_20:0_RT_32.878', 0.003839734610697495), ('Plasmenyl-PC P-18:0_22:5_RT_22.836', 0.003826086338145532), ('Plasmanyl-PC O-40:2_RT_25.247', 0.0038181453045859157), ('Plasmanyl-PC O-36:3_RT_23.509', 0.0038013416664966888), ('Plasmenyl-PE P-38:5_RT_23.176', 0.0037919005073713424), ('PC O-36:3_RT_22.866', 0.003791138821217061), ('PC 40:2_RT_24.655', 0.0037688183294382897), ('SM d38:0_RT_23.871', 0.0037684173269200844), ('PC 40:2_RT_24.93', 0.003739495574579165), ('SM d33:2_RT_19.085', 0.003735629176514323), ('Plasmenyl-PE P-34:1_RT_23.503', 0.0037314326263765403), ('Plasmanyl-PC O-38:6_RT_22.494', 0.0037294584234623977), ('Cer[NS] d40:2_RT_24.951', 0.003716853006909454), ('Plasmenyl-PE P-18:0_18:1_RT_24.502', 0.0036772257273252184), ('TG 16:1_18:3_18:2_RT_29.232', 0.0036746038763595364), ('Plasmanyl-PC O-36:2_RT_24.198', 0.0036604736131604794), ('TG 16:0_17:1_18:0_RT_33.516', 0.0036482885030657375), ('Plasmanyl-PC O-36:4_RT_22.759', 0.003646452044591642), ('Cer[NS] d40:2_RT_25.12', 0.00362313228550798), ('TG 17:0_18:1_18:0_RT_33.554', 0.003618954297251009), ('PI 36:4_RT_20.232', 0.0036079134132916647), ('Plasmanyl-PC O-40:1_RT_26.064', 0.0036061166243037813), ('SM d43:2_RT_25.206', 0.003599318866757138), ('PE 16:0_18:1_RT_22.866', 0.0035978456470516116), ('PC 34:5_RT_20.361', 0.003580949646791077), ('Plasmanyl-PC O-38:1_RT_25.236', 0.0035809093044227797), ('PC 18:2_19:0_RT_23.234', 0.0035793743287975324), ('PC 15:0_16:0_RT_21.664', 0.0035775313238002758), ('Plasmenyl-PE P-20:0_20:4_RT_24.738', 0.0035653378772336976), ('CE 22:6_RT_31.117', 0.0035647719948580865), ('AC 16:0_RT_10.888', 0.003563546677819256), ('PC O-40:6_RT_23.572', 0.0035619378389876726), ('AC 16:0_RT_11.031', 0.0035570466556876655), ('Plasmenyl-PC P-16:0_16:0_RT_22.993', 0.0035505946424416357), ('PC 42:5_RT_23.841', 0.003538548160216084), ('SM d44:1_RT_26.502', 0.003533328460942627), ('Plasmenyl-PC P-34:1_RT_23.185', 0.0035295555631356624), ('CE 20:2_RT_33.113', 0.0035272082027169925), ('SM d36:0_RT_22.758', 0.0035267815713334798), ('SM d39:2_RT_23.197', 0.003525216808125371), ('TG 16:0_17:0_18:0_RT_33.68', 0.003517785378316907), ('Plasmenyl-PC P-20:0_20:4_RT_23.628', 0.0035042156483498566), ('SM d38:3_RT_21.495', 0.0034962446911034114), ('PC 42:10_RT_20.814', 0.0034914498325547315), ('PC 18:0_22:5_RT_23.405', 0.0034888119553329083), ('PC 44:9_RT_21.117', 0.0034695034914904777), ('PC 17:0_20:3_RT_22.751', 0.003461979789309959), ('PC 16:1_18:2_RT_20.653', 0.0034221293053048364), ('PI 38:5_RT_20.439', 0.0034147194262617213), ('SM d43:1_RT_25.994', 0.003412350350499543), ('Plasmanyl-PC O-20:0_20:4_RT_24.538', 0.0033979143734906296), ('PC 18:0_20:2_RT_23.863', 0.0033958905262624134), ('Cer[NS] d42:2_RT_26.152', 0.003372847310837346), ('SM d42:1_RT_24.856', 0.003328273439221777), ('Plasmenyl-PC P-16:0_18:2_RT_22.378', 0.0033253817302459003), ('Cer[NS] d36:1_RT_23.898', 0.00331879171413933), ('Plasmenyl-PC P-18:0_20:4_RT_23.463', 0.003308364968470959), ('Plasmanyl-PC O-42:2_RT_26.202', 0.0032976552869160517), ('SM d36:3_RT_20.199', 0.003290382886690425), ('SM d36:3_RT_20.353', 0.003288063279983175), ('Plasmanyl-PC O-18:0_18:2_RT_23.604', 0.003282626955719851), ('PC O-40:6_RT_23.301', 0.003263818306724291), ('PC 40:6_RT_22.445', 0.0032275598460987987), ('TG 51:4_RT_30.291', 0.003223711183869057), ('TG 48:3_RT_29.583', 0.003222513977838796), ('PC 42:6_RT_23.162', 0.0032128256428967366), ('PC 37:1_RT_24.136', 0.003204824367896026), ('PC 36:5_RT_22.026', 0.0032034803267913968), ('PE 40:5_RT_23.338', 0.0031983448287723703), ('PC 16:0_20:5_RT_20.978', 0.0031894016002103833), ('PC 40:8_RT_22.254', 0.003169638512795373), ('Plasmenyl-PE P-20:0_22:6_RT_24.57', 0.0031476141012179173), ('TG 18:2_18:1_19:0_RT_33.03', 0.0031342034881453136), ('TG 48:1_RT_31.337', 0.0031337720364612116), ('Plasmenyl-PC P-18:0_18:2_RT_23.51', 0.003132318198543278), ('S1P d18:1_RT_10.744', 0.0031289120863495323), ('PI 40:6_RT_21.364', 0.003118731046338018), ('PC 42:5_RT_23.995', 0.0031011333533584777), ('Plasmenyl-PE P-18:1_22:6_RT_22.691', 0.0031010278843059944), ('PC 40:3_RT_24.001', 0.0030966304693202645), ('TG 48:2_RT_30.519', 0.003093439113501432), ('PC 40:6_RT_23.31', 0.0030888414628384934), ('Alkenyl-TG P-52:1_RT_33.685', 0.0030692004863506683), ('SM d41:3_RT_23.226', 0.003061523679572337), ('Plasmanyl-PC O-38:5_RT_23.466', 0.0030602522843783454), ('PC 32:2_RT_20.361', 0.003057186695507032), ('PI 18:1_18:0_RT_22.232', 0.003049254302259094), ('Cer[NS] d43:1_RT_27.519', 0.003034457765280863), ('PC 39:5_RT_22.483', 0.003026702894645874), ('PC 18:2_18:2_RT_21.077', 0.0030247342493661305), ('Plasmanyl-PC O-35:2_RT_23.063', 0.0030227256782822455), ('Plasmenyl-PE P-18:0_22:5_RT_23.887', 0.003014819454302149), ('TG 53:4_RT_31.269', 0.0030117579486523324), ('PC 42:7_RT_22.86', 0.0030036641353911047), ('Plasmanyl-PC O-36:0_RT_25.084', 0.0029827381393398873), ('Plasmanyl-PC O-40:6_RT_22.804', 0.0029733738459794667), ('Plasmanyl-PC O-42:5_RT_24.541', 0.0029547920195726104), ('PC 19:0_20:4_RT_23.456', 0.002951646310708929), ('PC 18:0_20:3_RT_23.305', 0.0029124737722603794), ('SM d35:2_RT_20.586', 0.002891134507223192), ('Plasmenyl-PC P-16:0_22:6_RT_22.172', 0.002889761499194343), ('PC 37:6_RT_23.069', 0.002886197916136564), ('SM d41:2_RT_24.231', 0.0028780019037686023), ('Plasmenyl-PC P-18:0_18:1_RT_23.399', 0.002868641181067025), ('PI 16:0_18:2_RT_20.206', 0.0028669987888040264), ('TG 53:3_RT_31.991', 0.0028668586860053813), ('Cer[NS] d42:3_RT_25.127', 0.0028448929667536206), ('Plasmenyl-PE P-38:5_RT_22.849', 0.0028445069903451914), ('PE 16:0_18:2_RT_22.063', 0.0028443739785244636), ('TG 18:1_18:1_18:1_RT_33.491', 0.002840246499239204), ('Plasmanyl-PC O-42:4_RT_25.492', 0.0028328011632674194), ('Plasmenyl-PC P-16:0_20:4_RT_22.338', 0.0028058739562214162), ('PC 16:0_17:0_RT_22.686', 0.002802574294291911), ('PC 14:0_20:4_RT_20.369', 0.002792485561978961), ('PC 18:2_20:4_RT_21.079', 0.00278704152498721), ('PC 37:5_RT_22.156', 0.00277866004715619), ('Plasmanyl-PC O-36:5_RT_22.337', 0.0027609430574229766), ('PC O-38:1_RT_24.34', 0.0027607493393857706), ('PE 36:2_RT_23.241', 0.002692654429092137), ('PC 17:0_20:4_RT_22.14', 0.002692545861243524), ('PE 38:5_RT_22.233', 0.002675786193329691), ('Cer[NS] d38:1_RT_24.924', 0.0026563411381715337), ('Plasmenyl-PC P-18:0_18:2_RT_22.645', 0.002655626218230268), ('PC 36:6_RT_20.819', 0.002614770174079564), ('PC 15:0_20:4_RT_21.064', 0.0026091269951003006), ('Plasmanyl-PC O-18:0_20:4_RT_23.573', 0.002608127632362485), ('PC 40:6_RT_22.209', 0.002603444252342903), ('Plasmenyl-PE P-18:0_20:4_RT_23.778', 0.002597506501334249), ('PC 35:6_RT_21.906', 0.0025721279407547215), ('TG 58:4_RT_33.492', 0.0025683178607737605), ('SM d44:3_RT_24.711', 0.0025622185708823715), ('Plasmanyl-PC O-16:0_18:2_RT_22.48', 0.0025549302716124326), ('PC 18:2_18:1_RT_21.944', 0.0025513898825499366), ('Plasmanyl-PC O-36:1_RT_24.274', 0.002547514161468712), ('TG 50:2_RT_31.422', 0.00254618466463925), ('Plasmenyl-PE P-16:0_22:4_RT_23.483', 0.002544602576992896), ('PC 37:6_RT_20.919', 0.0025183316767359272), ('SM d44:2_RT_25.47', 0.0025032913167846293), ('Plasmanyl-PC O-40:6_RT_23.422', 0.002493098077892321), ('PS 18:0_18:0_RT_23.07', 0.002485277322062712), ('Plasmanyl-PC O-38:6_RT_22.306', 0.002484057055154909), ('Plasmenyl-PE P-16:0_22:6_RT_22.524', 0.0024752363341862447), ('PC 32:1_RT_21.303', 0.0024541567860466313), ('TG 16:0_18:0_18:0_RT_34.031', 0.0024500091878233575), ('TG 16:0_18:3_18:2_RT_30.1', 0.002440669379328808), ('PC 37:7_RT_23.205', 0.0024340354426201027), ('TG 53:1_RT_33.714', 0.002429736815004085), ('Plasmanyl-PC O-32:1_RT_22.998', 0.002422322401675968), ('PC 34:4_RT_21.303', 0.0023861592455336096), ('Cer[NS] d41:1_RT_26.473', 0.002378120642023367), ('TG 50:3_RT_30.586', 0.0023748922421430166), ('PC 14:0_16:0_RT_21.017', 0.002366310246506709), ('PC 18:2_19:0_RT_23.482', 0.002338044744610445), ('Plasmenyl-PC P-18:0_22:4_RT_23.405', 0.002337128621576293), ('TG 18:1_18:1_20:3_RT_32.204', 0.0023245729496031344), ('Plasmanyl-PC O-40:5_RT_23.631', 0.0022985098980931647), ('PC O-40:6_RT_22.452', 0.002213700821650726), ('TG 18:1_18:1_22:6_RT_31.185', 0.0021941753925585135), ('Plasmenyl-PE P-16:0_20:4_RT_22.692', 0.0021930564993255628), ('TG 53:3_RT_32.165', 0.002190339966898821), ('Plasmenyl-PC P-38:4_RT_22.616', 0.002174834906999219), ('SM d35:1_RT_21.643', 0.0021719868438461816), ('PC 38:2_RT_23.029', 0.002168511269845184), ('SM d43:2_RT_24.976', 0.0021513261010157585), ('PC 16:0_22:4_RT_22.611', 0.002146174089493526), ('PC 37:5_RT_21.269', 0.002138421564935188), ('PC 40:9_RT_21.581', 0.0021355517287196604), ('Cer[NS] d40:1_RT_25.948', 0.0021138254354302606), ('Plasmanyl-PC O-18:0_16:0_RT_24.118', 0.0021119594063476557), ('Cer[NS] d42:2_RT_25.936', 0.0020572778450279137), ('TG 18:1_18:1_22:4_RT_32.271', 0.0020544172238632615), ('TG 51:2_RT_32.097', 0.00204979955588987), ('PE 16:0_20:4_RT_22.05', 0.0020312427556298737), ('TG 53:2_RT_32.438', 0.0020262928882323187), ('SM d40:3_RT_22.716', 0.0020255199996500753), ('Plasmanyl-PC O-36:3_RT_22.645', 0.0019958566503024745), ('SM d33:1_RT_20.207', 0.0019949707925669066), ('TG 51:3_RT_31.108', 0.0019893536351889987), ('TG 54:4_RT_31.88', 0.001965718768394226), ('PC 39:6_RT_22.203', 0.0019531081000634628), ('SM d41:2_RT_24.027', 0.0019403466734348627), ('PC 38:5_RT_22.988', 0.0019371514347685567), ('SM d38:2_RT_22.612', 0.0019151578840748758), ('PC 38:5_RT_22.755', 0.0019135761067671031), ('PC 36:4_RT_22.532', 0.0018982977707717049), ('PC 17:1_18:2_RT_21.3', 0.0018850503682188813), ('CE 16:0_RT_32.94', 0.0018768652382567658), ('PC 37:4_RT_22.345', 0.0018556795639417239), ('PC 40:5_RT_23.057', 0.0018349968414218822), ('Plasmenyl-PC P-34:0_RT_23.221', 0.0018203640467044189), ('Plasmanyl-PC O-16:0_20:4_RT_22.462', 0.0018191706001818395), ('PC 17:0_18:2_RT_22.153', 0.0017658642846599517), ('PC 38:5_RT_22.276', 0.0017497709947479436), ('TG 56:5_RT_32.535', 0.0017292618456231116), ('PC 38:6_RT_22.155', 0.0017164896986914093), ('PC 35:4_RT_23.212', 0.0017122519305385997), ('PC 15:0_18:2_RT_21.062', 0.0017038238202926872), ('TG 53:4_RT_31.174', 0.001703080090719992), ('PC 18:1_22:6_RT_21.797', 0.0017027210288443032), ('PI 18:2_18:0_RT_21.475', 0.0016591850322664615), ('Cer[NS] d42:1_RT_26.996', 0.001644472077271379), ('Plasmanyl-PC O-38:5_RT_22.618', 0.0015148190661131852), ('Plasmanyl-PC O-36:2_RT_23.4', 0.0014845724030054003), ('SM d44:6_RT_23.762', 0.0014771139515497814), ('TG 56:5_RT_31.858', 0.0014602207241396934), ('PC 16:0_20:4_RT_21.713', 0.001408382976489614), ('TG 52:4_RT_30.801', 0.0014032175063698187), ('PC 38:3_RT_23.032', 0.0013899195004738484), ('PE 18:0_20:4_RT_23.214', 0.0013818692534832732), ('SM d34:0_RT_21.47', 0.001322896302252099), ('TG 18:1_18:1_20:1_RT_33.426', 0.0013155442497895995), ('TG 17:0_18:1_18:1_RT_32.945', 0.0012866165967615143), ('PC 34:3_RT_20.951', 0.0012852235914026242), ('SM d38:1_RT_23.507', 0.0012079128332799735), ('PC 16:0_18:0_RT_23.478', 0.001204704121287719), ('Plasmanyl-PC O-16:0_16:0_RT_23.059', 0.0011991698981954348), ('PC 18:0_20:4_RT_22.908', 0.001167988096764809), ('PC 33:1_RT_21.951', 0.0011586121134741245), ('PI 18:0_20:4_RT_21.484', 0.0011312250433561692), ('SM d40:2_RT_23.731', 0.0011148402387927505), ('TG 54:3_RT_32.648', 0.0011117351610556469), ('SM d36:2_RT_21.272', 0.0010908273440099303), ('PC 18:1_18:0_RT_23.662', 0.0010510769938613983), ('CE 18:1_RT_32.982', 0.0010424297433208765), ('PC 17:0_18:1_RT_23.126', 0.0010312934405048706), ('Plasmanyl-PC O-34:1_RT_23.208', 0.0010153562536786484), ('SM d36:1_RT_22.311', 0.0010037950669081095), ('CE 18:2_RT_32.007', 0.0008559891167879398), ('TG 56:4_RT_32.689', 0.0008364993376945258), ('SM d42:3_RT_23.747', 0.0007752222138012857), ('SM d40:1_RT_24.508', 0.0007661360484676626), ('PC 35:2_RT_22.357', 0.0007162313809615327), ('PC 16:0_20:3_RT_22.161', 0.0006977401914252959), ('TG 18:2_18:1_18:1_RT_31.726', 0.0006760753283315304), ('PC 38:5_RT_21.91', 0.0006677165722408175), ('TG 54:2_RT_33.383', 0.0006368710101071355), ('PC 16:0_16:0_RT_22.328', 0.0005679650255185988), ('SM d34:1_RT_20.942', 0.00047259680573769503), ('TG 16:0_18:2_18:1_RT_31.632', 0.0004450509567394076), ('TG 16:0_18:1_18:1_RT_32.478', 0.0003513259159834624), ('PC 18:2_18:0_RT_22.946', 0.0003041606064660142), ('PC 16:0_18:1_RT_22.556', 0.00020340931861898893), ('PC 16:0_18:2_RT_21.735', 0.00014293583620115233)]\n",
            "647\n"
          ]
        }
      ],
      "source": [
        "from sklearn.feature_selection import VarianceThreshold\n",
        "from sklearn.datasets import load_iris\n",
        "from sklearn import preprocessing\n",
        "#iris = load_iris()\n",
        "#print(VarianceThreshold(threshold=3).fit_transform(iris.data))\n",
        "X=X_lip\n",
        "print(X[0:5])\n",
        "min_max_scaler = preprocessing.MinMaxScaler()\n",
        "X_t = min_max_scaler.fit_transform(X.T)\n",
        "X=X_t.T\n",
        "print(X[0:5])\n",
        "selector = VarianceThreshold(threshold=0.0).fit(X,y)\n",
        "data = selector.transform(X)\n",
        "print(data.shape)\n",
        "print(selector.variances_.shape)\n",
        "\n",
        "aov={}\n",
        "\n",
        "for i in range(X.shape[1]):\n",
        "  if selector.variances_[i]>=0.0:\n",
        "    aov[col_lip[i]]=selector.variances_[i]\n",
        "\n",
        "print(aov)\n",
        "aov_sorted=sorted(aov.items(),reverse=True,key=lambda x:x[1])\n",
        "print(aov_sorted)\n",
        "print(len(aov_sorted))"
      ]
    },
    {
      "cell_type": "code",
      "execution_count": null,
      "metadata": {
        "colab": {
          "base_uri": "https://localhost:8080/"
        },
        "id": "fuDaOzY5MCjj",
        "outputId": "00086864-6829-4856-8ed8-9cfc1ab0cef9"
      },
      "outputs": [
        {
          "output_type": "stream",
          "name": "stderr",
          "text": [
            "/usr/local/lib/python3.7/dist-packages/ipykernel_launcher.py:4: DeprecationWarning: `np.float` is a deprecated alias for the builtin `float`. To silence this warning, use `float` by itself. Doing this will not modify any behavior and is safe. If you specifically wanted the numpy scalar type, use `np.float64` here.\n",
            "Deprecated in NumPy 1.20; for more details and guidance: https://numpy.org/devdocs/release/1.20.0-notes.html#deprecations\n",
            "  after removing the cwd from sys.path.\n"
          ]
        },
        {
          "output_type": "execute_result",
          "data": {
            "text/plain": [
              "array([0.0233192 , 0.02105163, 0.02063033, 0.02057246, 0.02024318,\n",
              "       0.01637741, 0.01518993, 0.01501424, 0.01399962, 0.01339841,\n",
              "       0.01327642, 0.01287757, 0.01196179, 0.01127446, 0.01117231,\n",
              "       0.01107901, 0.00939691, 0.00859676, 0.00850303, 0.00708836])"
            ]
          },
          "metadata": {},
          "execution_count": 26
        }
      ],
      "source": [
        "aov_sorted_top=aov_sorted[:20]\n",
        "aov_sorted_top=np.asarray(aov_sorted_top)\n",
        "aov_sorted_top_v=aov_sorted_top[:,1]\n",
        "aov_sorted_top_v=aov_sorted_top_v.astype(np.float)\n",
        "aov_sorted_top_v\n"
      ]
    },
    {
      "cell_type": "code",
      "execution_count": null,
      "metadata": {
        "colab": {
          "base_uri": "https://localhost:8080/"
        },
        "id": "n1DqXdm69v0a",
        "outputId": "7909da32-ea38-4c65-98e6-fe68078204e1"
      },
      "outputs": [
        {
          "output_type": "stream",
          "name": "stdout",
          "text": [
            "['L-Proline, 2TMS derivative RT9.926992'\n",
            " 'Quinolinic acid, bis(trimethylsilyl) ester RT14.717184'\n",
            " '2,3-Dihydroxybutanoic acid, tris(trimethylsilyl)- RT10.455827'\n",
            " 'Sugar RT14.882448' 'Sugar RT15.948677'\n",
            " '3-Hydroxybutyric acid, 2TMS derivative RT8.103591' 'Sugar RT16.115755'\n",
            " 'Sugar acid RT17.285215'\n",
            " 'Phosphorylethanolamine, 4TMS derivative RT15.271004'\n",
            " 'Indol-5-ol, 2TMS derivative RT14.572634'\n",
            " 'Hydroxybenzeneacetic acid, 2TMS derivative RT13.857543'\n",
            " 'Methylphenol RT8.024749' 'Naproxen, TMS derivative RT18.090047'\n",
            " 'Sugar RT19.222404' 'Sugar RT14.499155' 'Sugar RT17.885434'\n",
            " 'Sugar RT16.657726' 'Salicylic acid' 'Sugar RT16.206201'\n",
            " 'Sugar RT22.861927']\n",
            "['L-Proline, 2', 'Quinolinic a', '2,3-Dihydrox', 'Sugar RT14.8', 'Sugar RT15.9', '3-Hydroxybut', 'Sugar RT16.1', 'Sugar acid R', 'Phosphorylet', 'Indol-5-ol, ', 'Hydroxybenze', 'Methylphenol', 'Naproxen, TM', 'Sugar RT19.2', 'Sugar RT14.4', 'Sugar RT17.8', 'Sugar RT16.6', 'Salicylic ac', 'Sugar RT16.2', 'Sugar RT22.8']\n",
            "(20,)\n",
            "['L-Proline, 2TMS derivative RT9.926992'\n",
            " 'Quinolinic acid, bis(trimethylsilyl) ester RT14.717184'\n",
            " '2,3-Dihydroxybutanoic acid, tris(trimethylsilyl)- RT10.455827'\n",
            " 'Sugar RT14.882448' 'Sugar RT15.948677'\n",
            " '3-Hydroxybutyric acid, 2TMS derivative RT8.103591' 'Sugar RT16.115755'\n",
            " 'Sugar acid RT17.285215'\n",
            " 'Phosphorylethanolamine, 4TMS derivative RT15.271004'\n",
            " 'Indol-5-ol, 2TMS derivative RT14.572634'\n",
            " 'Hydroxybenzeneacetic acid, 2TMS derivative RT13.857543'\n",
            " 'Methylphenol RT8.024749' 'Naproxen, TMS derivative RT18.090047'\n",
            " 'Sugar RT19.222404' 'Sugar RT14.499155' 'Sugar RT17.885434'\n",
            " 'Sugar RT16.657726' 'Salicylic acid' 'Sugar RT16.206201'\n",
            " 'Sugar RT22.861927']\n"
          ]
        }
      ],
      "source": [
        "temp=aov_sorted_top[:,0][::-1]\n",
        "tt=[]\n",
        "for i in temp:\n",
        "  tt.append(i[:12])\n",
        "print(temp)\n",
        "print(tt)\n",
        "tt=np.asarray(tt)\n",
        "print(tt.shape)\n",
        "print(aov_sorted_top[:,0][::-1])"
      ]
    },
    {
      "cell_type": "code",
      "execution_count": null,
      "metadata": {
        "colab": {
          "base_uri": "https://localhost:8080/",
          "height": 497
        },
        "id": "A5R77MTJY0qr",
        "outputId": "b0821ac3-40a9-4b75-bafe-51d2f4e9536e"
      },
      "outputs": [
        {
          "output_type": "display_data",
          "data": {
            "text/plain": [
              "<Figure size 576x576 with 1 Axes>"
            ],
            "image/png": "[encoded data removed]"
          },
          "metadata": {
            "needs_background": "light"
          }
        }
      ],
      "source": [
        "plt.figure(figsize=(8,8))\n",
        "\n",
        "plt.barh(tt, aov_sorted_top_v[::-1], color='darkblue', edgecolor='black')\n",
        "plt.xlabel('variance') # x 轴\n",
        "plt.xlim(min(aov_sorted_top_v[::-1]),max(aov_sorted_top_v[::-1]))\n",
        "plt.ylabel('transcriptomics features') # y轴\n",
        "#plt.title('Feature Importances') # 标题\n",
        "for a,b in zip( aov_sorted_top_v[::-1],tt): # 添加数字标签\n",
        "   plt.text(a+0.001, b,'%.3f'%float(a)) # a+0.001代表标签位置在柱形图上方0.001处\n",
        "\n",
        "plt.savefig(\"aovMeta.pdf\",dpi=200,bbox_inches='tight')\n",
        "plt.show()\n"
      ]
    },
    {
      "cell_type": "code",
      "execution_count": null,
      "metadata": {
        "colab": {
          "base_uri": "https://localhost:8080/",
          "height": 483
        },
        "id": "dF1NDeEoFSHu",
        "outputId": "72818e8e-583f-453e-95d5-bd3a7f1e98e8"
      },
      "outputs": [
        {
          "data": {
            "image/png": "[encoded data removed]",
            "text/plain": [
              "<Figure size 576x576 with 1 Axes>"
            ]
          },
          "metadata": {},
          "output_type": "display_data"
        }
      ],
      "source": [
        "AAAfig, ax = plt.subplots(figsize=(8,8))# 函数用于创建子图\n",
        "people =aov_sorted_top[:,0][::-1]\n",
        "y_pos = np.arange(len(people))\n",
        "performance = aov_sorted_top_v[::-1]\n",
        "\n",
        "ax.barh(y_pos, performance,color = \"green\",)\n",
        "ax.set_yticks(y_pos)\n",
        "ax.set_yticklabels(people)# 设置y轴坐标属性值\n",
        "\n",
        "plt.show()\n"
      ]
    },
    {
      "cell_type": "markdown",
      "metadata": {
        "id": "ks-VjmYNXgLr"
      },
      "source": [
        "# Obtain Cluster Classification Label and Training Model"
      ]
    },
    {
      "cell_type": "code",
      "execution_count": null,
      "metadata": {
        "colab": {
          "base_uri": "https://localhost:8080/"
        },
        "id": "ROnMRnauOiST",
        "outputId": "8f34fd5e-d7c2-4735-c499-8629b97af6d1"
      },
      "outputs": [
        {
          "name": "stdout",
          "output_type": "stream",
          "text": [
            "51\n",
            "49\n",
            "20.019607843137255\n",
            "24.244897959183675\n"
          ]
        }
      ],
      "source": [
        "a=[]\n",
        "b=[]\n",
        "HDF45_ls=HDF45['Hospital_free_days_45'].tolist() \n",
        "for i in range(len(pred_clusters)):\n",
        "  if pred_clusters[i]==1:\n",
        "    a.append(HDF45_ls[i])\n",
        "  else:\n",
        "    b.append(HDF45_ls[i])\n",
        "print(len(a))\n",
        "print(len(b))\n",
        "print(np.asarray(a).mean())\n",
        "print(np.asarray(b).mean())"
      ]
    },
    {
      "cell_type": "code",
      "execution_count": null,
      "metadata": {
        "colab": {
          "base_uri": "https://localhost:8080/"
        },
        "id": "3wZ8VcLtjofT",
        "outputId": "12696d05-a727-4771-ecb5-cc67585233ba"
      },
      "outputs": [
        {
          "name": "stdout",
          "output_type": "stream",
          "text": [
            "1600\n",
            "0.32323232323232326\n",
            "0.6402561024409764\n"
          ]
        }
      ],
      "source": [
        "Cn=4950\n",
        "count=0\n",
        "n=len(a)*len(b)\n",
        "for i in a:\n",
        "  for j in b:\n",
        "    if i<=j:\n",
        "      count+=1\n",
        "print(count)\n",
        "print(count/Cn)\n",
        "print(count/n)"
      ]
    },
    {
      "cell_type": "code",
      "execution_count": null,
      "metadata": {
        "colab": {
          "base_uri": "https://localhost:8080/",
          "height": 396
        },
        "id": "8cCgMLXyooQn",
        "outputId": "96bd8dbd-679a-43d9-e9fa-d471a17cedfa"
      },
      "outputs": [
        {
          "ename": "ValueError",
          "evalue": "ignored",
          "output_type": "error",
          "traceback": [
            "\u001b[0;31m---------------------------------------------------------------------------\u001b[0m",
            "\u001b[0;31mValueError\u001b[0m                                Traceback (most recent call last)",
            "\u001b[0;32m<ipython-input-40-65e2f4fc56fe>\u001b[0m in \u001b[0;36m<module>\u001b[0;34m()\u001b[0m\n\u001b[1;32m     10\u001b[0m \u001b[0;32mfrom\u001b[0m \u001b[0mmath\u001b[0m \u001b[0;32mimport\u001b[0m \u001b[0msqrt\u001b[0m\u001b[0;34m\u001b[0m\u001b[0;34m\u001b[0m\u001b[0m\n\u001b[1;32m     11\u001b[0m \u001b[0;34m\u001b[0m\u001b[0m\n\u001b[0;32m---> 12\u001b[0;31m \u001b[0mtrain_x\u001b[0m\u001b[0;34m,\u001b[0m\u001b[0mtest_x\u001b[0m\u001b[0;34m,\u001b[0m\u001b[0mtrain_y\u001b[0m\u001b[0;34m,\u001b[0m\u001b[0mtest_y\u001b[0m \u001b[0;34m=\u001b[0m \u001b[0mtrain_test_split\u001b[0m\u001b[0;34m(\u001b[0m\u001b[0mX_EN\u001b[0m\u001b[0;34m.\u001b[0m\u001b[0mT\u001b[0m\u001b[0;34m,\u001b[0m\u001b[0my\u001b[0m\u001b[0;34m.\u001b[0m\u001b[0mT\u001b[0m\u001b[0;34m,\u001b[0m\u001b[0mtest_size\u001b[0m\u001b[0;34m=\u001b[0m\u001b[0;36m0.2\u001b[0m\u001b[0;34m,\u001b[0m\u001b[0mshuffle\u001b[0m\u001b[0;34m=\u001b[0m\u001b[0;32mTrue\u001b[0m\u001b[0;34m)\u001b[0m\u001b[0;34m\u001b[0m\u001b[0;34m\u001b[0m\u001b[0m\n\u001b[0m\u001b[1;32m     13\u001b[0m \u001b[0mprint\u001b[0m\u001b[0;34m(\u001b[0m\u001b[0mtrain_x\u001b[0m\u001b[0;34m.\u001b[0m\u001b[0mshape\u001b[0m\u001b[0;34m)\u001b[0m\u001b[0;34m\u001b[0m\u001b[0;34m\u001b[0m\u001b[0m\n\u001b[1;32m     14\u001b[0m \u001b[0mtrain_x\u001b[0m \u001b[0;34m=\u001b[0m \u001b[0mtrain_x\u001b[0m\u001b[0;34m.\u001b[0m\u001b[0mreshape\u001b[0m\u001b[0;34m(\u001b[0m\u001b[0;34m(\u001b[0m\u001b[0mtrain_x\u001b[0m\u001b[0;34m.\u001b[0m\u001b[0mshape\u001b[0m\u001b[0;34m[\u001b[0m\u001b[0;36m0\u001b[0m\u001b[0;34m]\u001b[0m\u001b[0;34m,\u001b[0m \u001b[0;36m1\u001b[0m\u001b[0;34m,\u001b[0m \u001b[0mtrain_x\u001b[0m\u001b[0;34m.\u001b[0m\u001b[0mshape\u001b[0m\u001b[0;34m[\u001b[0m\u001b[0;36m1\u001b[0m\u001b[0;34m]\u001b[0m\u001b[0;34m)\u001b[0m\u001b[0;34m)\u001b[0m\u001b[0;34m\u001b[0m\u001b[0;34m\u001b[0m\u001b[0m\n",
            "\u001b[0;32m/usr/local/lib/python3.7/dist-packages/sklearn/model_selection/_split.py\u001b[0m in \u001b[0;36mtrain_test_split\u001b[0;34m(test_size, train_size, random_state, shuffle, stratify, *arrays)\u001b[0m\n\u001b[1;32m   2415\u001b[0m         \u001b[0;32mraise\u001b[0m \u001b[0mValueError\u001b[0m\u001b[0;34m(\u001b[0m\u001b[0;34m\"At least one array required as input\"\u001b[0m\u001b[0;34m)\u001b[0m\u001b[0;34m\u001b[0m\u001b[0;34m\u001b[0m\u001b[0m\n\u001b[1;32m   2416\u001b[0m \u001b[0;34m\u001b[0m\u001b[0m\n\u001b[0;32m-> 2417\u001b[0;31m     \u001b[0marrays\u001b[0m \u001b[0;34m=\u001b[0m \u001b[0mindexable\u001b[0m\u001b[0;34m(\u001b[0m\u001b[0;34m*\u001b[0m\u001b[0marrays\u001b[0m\u001b[0;34m)\u001b[0m\u001b[0;34m\u001b[0m\u001b[0;34m\u001b[0m\u001b[0m\n\u001b[0m\u001b[1;32m   2418\u001b[0m \u001b[0;34m\u001b[0m\u001b[0m\n\u001b[1;32m   2419\u001b[0m     \u001b[0mn_samples\u001b[0m \u001b[0;34m=\u001b[0m \u001b[0m_num_samples\u001b[0m\u001b[0;34m(\u001b[0m\u001b[0marrays\u001b[0m\u001b[0;34m[\u001b[0m\u001b[0;36m0\u001b[0m\u001b[0;34m]\u001b[0m\u001b[0;34m)\u001b[0m\u001b[0;34m\u001b[0m\u001b[0;34m\u001b[0m\u001b[0m\n",
            "\u001b[0;32m/usr/local/lib/python3.7/dist-packages/sklearn/utils/validation.py\u001b[0m in \u001b[0;36mindexable\u001b[0;34m(*iterables)\u001b[0m\n\u001b[1;32m    376\u001b[0m \u001b[0;34m\u001b[0m\u001b[0m\n\u001b[1;32m    377\u001b[0m     \u001b[0mresult\u001b[0m \u001b[0;34m=\u001b[0m \u001b[0;34m[\u001b[0m\u001b[0m_make_indexable\u001b[0m\u001b[0;34m(\u001b[0m\u001b[0mX\u001b[0m\u001b[0;34m)\u001b[0m \u001b[0;32mfor\u001b[0m \u001b[0mX\u001b[0m \u001b[0;32min\u001b[0m \u001b[0miterables\u001b[0m\u001b[0;34m]\u001b[0m\u001b[0;34m\u001b[0m\u001b[0;34m\u001b[0m\u001b[0m\n\u001b[0;32m--> 378\u001b[0;31m     \u001b[0mcheck_consistent_length\u001b[0m\u001b[0;34m(\u001b[0m\u001b[0;34m*\u001b[0m\u001b[0mresult\u001b[0m\u001b[0;34m)\u001b[0m\u001b[0;34m\u001b[0m\u001b[0;34m\u001b[0m\u001b[0m\n\u001b[0m\u001b[1;32m    379\u001b[0m     \u001b[0;32mreturn\u001b[0m \u001b[0mresult\u001b[0m\u001b[0;34m\u001b[0m\u001b[0;34m\u001b[0m\u001b[0m\n\u001b[1;32m    380\u001b[0m \u001b[0;34m\u001b[0m\u001b[0m\n",
            "\u001b[0;32m/usr/local/lib/python3.7/dist-packages/sklearn/utils/validation.py\u001b[0m in \u001b[0;36mcheck_consistent_length\u001b[0;34m(*arrays)\u001b[0m\n\u001b[1;32m    332\u001b[0m         raise ValueError(\n\u001b[1;32m    333\u001b[0m             \u001b[0;34m\"Found input variables with inconsistent numbers of samples: %r\"\u001b[0m\u001b[0;34m\u001b[0m\u001b[0;34m\u001b[0m\u001b[0m\n\u001b[0;32m--> 334\u001b[0;31m             \u001b[0;34m%\u001b[0m \u001b[0;34m[\u001b[0m\u001b[0mint\u001b[0m\u001b[0;34m(\u001b[0m\u001b[0ml\u001b[0m\u001b[0;34m)\u001b[0m \u001b[0;32mfor\u001b[0m \u001b[0ml\u001b[0m \u001b[0;32min\u001b[0m \u001b[0mlengths\u001b[0m\u001b[0;34m]\u001b[0m\u001b[0;34m\u001b[0m\u001b[0;34m\u001b[0m\u001b[0m\n\u001b[0m\u001b[1;32m    335\u001b[0m         )\n\u001b[1;32m    336\u001b[0m \u001b[0;34m\u001b[0m\u001b[0m\n",
            "\u001b[0;31mValueError\u001b[0m: Found input variables with inconsistent numbers of samples: [85, 100]"
          ]
        }
      ],
      "source": [
        "import pandas as pd\n",
        "from datetime import datetime\n",
        "from matplotlib import pyplot\n",
        "from sklearn.preprocessing import LabelEncoder,MinMaxScaler\n",
        "from sklearn.metrics import mean_squared_error\n",
        "from keras.models import Sequential\n",
        "from keras.layers import Dense\n",
        "from keras.layers import LSTM\n",
        "from numpy import concatenate\n",
        "from math import sqrt\n",
        "\n",
        "train_x,test_x,train_y,test_y = train_test_split(X_EN,y,test_size=0.2,shuffle=True)\n",
        "print(train_x.shape)\n",
        "train_x = train_x.reshape((train_x.shape[0], 1, train_x.shape[1]))\n",
        "test_x = test_x.reshape((test_x.shape[0], 1, test_x.shape[1]))\n",
        "\n",
        "model = Sequential()\n",
        "model.add(LSTM(50, input_shape=(train_x.shape[1], train_x.shape[2])))\n",
        "model.add(Dense(1))\n",
        "model.compile(loss='mae', optimizer='adam')\n",
        "\n",
        "# fit network\n",
        "\n",
        "history = model.fit(train_x, train_y, epochs=50, batch_size=72,validation_data=(test_x, test_y),verbose=2, shuffle=False)\n",
        "pyplot.plot(history.history['loss'], label='train')\n",
        "pyplot.plot(history.history['val_loss'], label='test')\n",
        "pyplot.legend()\n",
        "pyplot.show()\n",
        "\n",
        "#scaler = MinMaxScaler(feature_range=(0, 1))\n",
        "\n",
        "yhat = model.predict(test_x)\n",
        "test_x= test_x.reshape((test_x.shape[0], test_x.shape[2]))\n",
        "inv_yhat = concatenate((yhat, test_x[:, 1:]), axis=1)\n",
        "#inv_yhat = scaler.inverse_transform(inv_yhat)\n",
        "inv_yhat = inv_yhat[:,0]\n",
        "#inv_y = scaler.inverse_transform(test_x)\n",
        "test_x = test_x[:,0]\n",
        "rmse = sqrt(mean_squared_error(test_x, inv_yhat))\n",
        "print('Test RMSE: %.3f' % rmse)\n",
        "\n",
        "  "
      ]
    },
    {
      "cell_type": "code",
      "execution_count": null,
      "metadata": {
        "colab": {
          "base_uri": "https://localhost:8080/"
        },
        "id": "QTtgfjpkivEy",
        "outputId": "6d0ad460-1f84-4209-84b7-d6feb26caddf"
      },
      "outputs": [
        {
          "name": "stdout",
          "output_type": "stream",
          "text": [
            "Epoch 1/10\n",
            "9/9 [==============================] - 1s 4ms/step - loss: 0.7126 - accuracy: 0.5000\n",
            "Epoch 2/10\n",
            "9/9 [==============================] - 0s 4ms/step - loss: 0.7058 - accuracy: 0.5000\n",
            "Epoch 3/10\n",
            "9/9 [==============================] - 0s 4ms/step - loss: 0.6985 - accuracy: 0.5000\n",
            "Epoch 4/10\n",
            "9/9 [==============================] - 0s 3ms/step - loss: 0.7007 - accuracy: 0.5000\n",
            "Epoch 5/10\n",
            "9/9 [==============================] - 0s 4ms/step - loss: 0.6992 - accuracy: 0.5000\n",
            "Epoch 6/10\n",
            "9/9 [==============================] - 0s 4ms/step - loss: 0.6993 - accuracy: 0.5000\n",
            "Epoch 7/10\n",
            "9/9 [==============================] - 0s 3ms/step - loss: 0.7023 - accuracy: 0.5000\n",
            "Epoch 8/10\n",
            "9/9 [==============================] - 0s 4ms/step - loss: 0.6946 - accuracy: 0.5000\n",
            "Epoch 9/10\n",
            "9/9 [==============================] - 0s 4ms/step - loss: 0.7007 - accuracy: 0.5000\n",
            "Epoch 10/10\n",
            "9/9 [==============================] - 0s 4ms/step - loss: 0.7019 - accuracy: 0.5000\n",
            "1/1 [==============================] - 0s 153ms/step - loss: 0.6932 - accuracy: 0.5000\n",
            "MLP\n",
            "accuracy [0.5]\n",
            "f1 0.6666666666666666\n",
            "0.5\n"
          ]
        }
      ],
      "source": [
        "import numpy as np\n",
        "from keras.models import Sequential\n",
        "from keras.layers import Dense, Dropout\n",
        " \n",
        "auc=[]\n",
        "accu=[]\n",
        "f1=[]\n",
        "\n",
        "input_shape=X_EN.shape[1]\n",
        "model = Sequential()\n",
        "model.add(Dense(128, input_dim=input_shape, activation='sigmoid'))\n",
        "model.add(Dense(64, activation='sigmoid'))\n",
        "model.add(Dense(32, activation='sigmoid'))\n",
        "model.add(Dense(1,activation='softmax'))\n",
        "\n",
        "\n",
        "model.compile(loss='binary_crossentropy',optimizer='rmsprop',metrics=['accuracy'])\n",
        "\n",
        "train_x,test_x,train_y,test_y = train_test_split(X_EN,y,test_size=0.2,shuffle=True)\n",
        "oversample=SMOTE()\n",
        "train_x,train_y=oversample.fit_resample(train_x, train_y)\n",
        "model.fit(train_x,train_y,epochs=10,batch_size=10,verbose=1)\n",
        "y_pred=model.predict(test_x,batch_size=10)\n",
        "score=model.evaluate(test_x,test_y, batch_size=20)\n",
        "\n",
        "\n",
        "print(\"MLP\")\n",
        "auc.append(score[1])\n",
        "print('accuracy',auc)\n",
        "\n",
        "f1=f1_score(test_y,y_pred)\n",
        "print('f1',f1)\n",
        "\n",
        "auc=roc_auc_score(test_y,y_pred)\n",
        "print(auc)"
      ]
    },
    {
      "cell_type": "code",
      "execution_count": null,
      "metadata": {
        "id": "Ck1HB70ywM97"
      },
      "outputs": [],
      "source": [
        "X_EN,y\n",
        "train_x=X_EN[:60]\n",
        "test_x=X_EN[60:]\n",
        "train_y=y[:60]\n",
        "test_y=y[60:]\n",
        "clf = RandomForestClassifier().fit(train_x, train_y)\n",
        "predicted=clf.predict(test_x)"
      ]
    },
    {
      "cell_type": "code",
      "execution_count": null,
      "metadata": {
        "colab": {
          "base_uri": "https://localhost:8080/"
        },
        "id": "v6otlyBNxVoh",
        "outputId": "33bd8783-e024-4d43-f5d3-b9dec2d67aa6"
      },
      "outputs": [
        {
          "name": "stdout",
          "output_type": "stream",
          "text": [
            "22\n",
            "18\n",
            "21.545454545454547\n",
            "25.72222222222222\n",
            "244\n",
            "0.6161616161616161\n"
          ]
        }
      ],
      "source": [
        "a=[]\n",
        "b=[]\n",
        "for i in range(0,40):\n",
        "  if predicted[i]==1:\n",
        "    a.append(HDF45[i+60])\n",
        "  else:\n",
        "    b.append(HDF45[i+60])\n",
        "print(len(a))\n",
        "print(len(b))\n",
        "print(np.asarray(a).mean())\n",
        "print(np.asarray(b).mean())\n",
        "\n",
        "\n",
        "count=0\n",
        "n=len(a)*len(b)\n",
        "for i in a:\n",
        "  for j in b:\n",
        "    if i<=j:\n",
        "      count+=1\n",
        "print(count)\n",
        "print(count/n)\n"
      ]
    },
    {
      "cell_type": "code",
      "execution_count": null,
      "metadata": {
        "colab": {
          "base_uri": "https://localhost:8080/"
        },
        "id": "i1sYT9mE6DmK",
        "outputId": "ccc7d2cc-614f-4f3e-c3ca-69bbbbb1e0b8"
      },
      "outputs": [
        {
          "name": "stdout",
          "output_type": "stream",
          "text": [
            "\n",
            "--- Training and Testing Completed ! ---\n",
            "\n",
            "\n",
            "\n",
            "Selected Model: RandomForest F1 score: 1.0\n",
            "{'SVM': [0.98, 0.98, 0.9818181818181818], 'RandomForest': [1.0, 1.0, 1.0], 'Logistic Regression': [0.8266666666666667, 0.8300000000000001, 0.8128860028860029], 'Knearest Model': [0.9775, 0.98, 0.9766233766233766], 'RUS': [1.0, 1.0, 1.0]}\n"
          ]
        }
      ],
      "source": [
        "#Models for training\n",
        "def svm_model(X, y, sf, prediction_dict):\n",
        "\tauc=[]\n",
        "\taccu=[]\n",
        "\tf1=[]\n",
        "\tfor train_ix , test_ix in sf.split(X, y):\n",
        "\t\ttrain_x, test_x = X[train_ix], X[test_ix]\n",
        "\t\ttrain_y,test_y = np.array(y)[train_ix],np.array(y)[test_ix]\n",
        "\t\tclf=svm.SVC()\n",
        "\t\toversample=SMOTE()\n",
        "\t\ttrain_x,train_y=oversample.fit_resample(train_x, train_y)\n",
        "\t\tclf.fit(train_x, train_y)\n",
        "\t\n",
        "\t\t####predict_train=clf.predict(train_x)\n",
        "\t\tpredicted=clf.predict(test_x)\n",
        "\t\tauc.append(roc_auc_score(test_y, predicted))\n",
        "\t\taccu.append(accuracy_score(test_y, predicted))\n",
        "\t\tf1.append(f1_score(test_y,predicted))\n",
        "\tauc=mean(auc)\n",
        "\taccu=mean(accu)\n",
        "\tf1=mean(f1)\n",
        "\tprediction_dict[\"SVM\"]=[auc, accu, f1 ]\n",
        "\treturn prediction_dict\n",
        "\n",
        "def RandomForest_model(X, y, sf, prediction_dict):\n",
        "\tauc=[]\n",
        "\taccu=[]\n",
        "\tf1=[]\n",
        "\tfor train_ix , test_ix in sf.split(X, y):\n",
        "\t\ttrain_x, test_x = X[train_ix], X[test_ix]\n",
        "\t\ttrain_y,test_y = np.array(y)[train_ix],np.array(y)[test_ix]\n",
        "\t\toversample=SMOTE()\n",
        "\t\ttrain_x,train_y=oversample.fit_resample(train_x, train_y)\n",
        "\t\tclf = RandomForestClassifier().fit(train_x, train_y)\n",
        "\t\tpredicted=clf.predict(test_x)\n",
        "\t\tauc.append(roc_auc_score(test_y, predicted))\n",
        "\t\taccu.append(accuracy_score(test_y, predicted))\n",
        "\t\tf1.append(f1_score(test_y,predicted))\n",
        "\tauc=mean(auc)\n",
        "\taccu=mean(accu)\n",
        "\tf1=mean(f1)\n",
        "\tprediction_dict[\"RandomForest\"]=[auc, accu, f1 ]\n",
        "\treturn prediction_dict\n",
        "\n",
        "def Logistic_model(X, y, sf,prediction_dict):\n",
        "\n",
        "\tauc=[]\n",
        "\taccu=[]\n",
        "\tf1=[]\n",
        "\tfor train_ix , test_ix in sf.split(X, y):\n",
        "\t\ttrain_x, test_x = X[train_ix], X[test_ix]\n",
        "\t\ttrain_y,test_y = np.array(y)[train_ix],np.array(y)[test_ix]\n",
        "\t\toversample=SMOTE()\n",
        "\t\ttrain_x,train_y=oversample.fit_resample(train_x, train_y)\n",
        "\t\tclf = LogisticRegression().fit(train_x, train_y)\n",
        "\t\tpredicted=clf.predict(test_x)\n",
        "\t\tauc.append(roc_auc_score(test_y, predicted))\n",
        "\t\taccu.append(accuracy_score(test_y, predicted))\n",
        "\t\tf1.append(f1_score(test_y,predicted))\n",
        "\tauc=mean(auc)\n",
        "\taccu=mean(accu)\n",
        "\tf1=mean(f1)\n",
        "\tprediction_dict[\"Logistic Regression\"]=[auc, accu, f1 ]\n",
        "\treturn prediction_dict\n",
        "def Knearest_model(X, y, sf ,prediction_dict):\n",
        "\n",
        "\tauc=[]\n",
        "\taccu=[]\n",
        "\tf1=[]\n",
        "\tfor train_ix , test_ix in sf.split(X, y):\n",
        "\t\ttrain_x, test_x = X[train_ix], X[test_ix]\n",
        "\t\ttrain_y,test_y = np.array(y)[train_ix],np.array(y)[test_ix]\n",
        "\t\t\n",
        "\t\toversample=SMOTE()\n",
        "\t\ttrain_x,train_y=oversample.fit_resample(train_x, train_y)\n",
        "\t\tclf = KNeighborsClassifier().fit(train_x, train_y)\n",
        "\t\tpredicted=clf.predict(test_x)\n",
        "\t\tauc.append(roc_auc_score(test_y, predicted))\n",
        "\t\taccu.append(accuracy_score(test_y, predicted))\n",
        "\t\tf1.append(f1_score(test_y,predicted))\n",
        "\tauc=mean(auc)\n",
        "\taccu=mean(accu)\n",
        "\tf1=mean(f1)\n",
        "\tprediction_dict[\"Knearest Model\"]=[ auc, accu, f1 ]\n",
        "\treturn prediction_dict\n",
        "\n",
        "def BalancedBagging_model(X, y,sf,prediction_dict):\n",
        "\n",
        "\tauc=[]\n",
        "\taccu=[]\n",
        "\tf1=[]\n",
        "\tfor train_ix , test_ix in sf.split(X, y):\n",
        "\t\ttrain_x, test_x = X[train_ix], X[test_ix]\n",
        "\t\ttrain_y,test_y = np.array(y)[train_ix],np.array(y)[test_ix]\n",
        "\t\toversample=SMOTE()\n",
        "\t\ttrain_x,train_y=oversample.fit_resample(train_x, train_y)\n",
        "\t\tclf = BalancedBaggingClassifier().fit(train_x, train_y)\n",
        "\t\tpredicted=clf.predict(test_x)\n",
        "\t\tauc.append(roc_auc_score(test_y, predicted))\n",
        "\t\taccu.append(accuracy_score(test_y, predicted))\n",
        "\t\tf1.append(f1_score(test_y,predicted))\n",
        "\tauc=mean(auc)\n",
        "\taccu=mean(accu)\n",
        "\tf1=mean(f1)\n",
        "\tprediction_dict[\"Balanced Bagging\"]=[ auc, accu, f1 ]\n",
        "\treturn prediction_dict\n",
        "\n",
        "def RUS_model(X, y, sf ,prediction_dict):\n",
        "\n",
        "\tauc=[]\n",
        "\taccu=[]\n",
        "\tf1=[]\n",
        "\tfor train_ix , test_ix in sf.split(X, y):\n",
        "\t\ttrain_x, test_x = X[train_ix], X[test_ix]\n",
        "\t\ttrain_y,test_y = np.array(y)[train_ix],np.array(y)[test_ix]\n",
        "\t\toversample=SMOTE()\n",
        "\t\ttrain_x,train_y=oversample.fit_resample(train_x, train_y)\n",
        "\t\tclf = RUSBoostClassifier().fit(train_x, train_y)\n",
        "\t\tpredicted=clf.predict(test_x)\n",
        "\t\tauc.append(roc_auc_score(test_y, predicted))\n",
        "\t\taccu.append(accuracy_score(test_y, predicted))\n",
        "\t\tf1.append(f1_score(test_y,predicted))\n",
        "\tauc=mean(auc)\n",
        "\taccu=mean(accu)\n",
        "\tf1=mean(f1)\n",
        "\tprediction_dict[\"RUS\"]=[auc, accu, f1 ]\n",
        "\treturn prediction_dict\n",
        "\n",
        "def Training(all_features, all_labels):\n",
        "\tprediction_dict={}\n",
        "\tsf=StratifiedKFold(n_splits=10, random_state=1, shuffle=True)\n",
        "\tprediction_dict=svm_model(all_features, all_labels, sf, prediction_dict)\n",
        "\tprediction_dict=RandomForest_model(all_features, all_labels, sf, prediction_dict)\n",
        "\tprediction_dict=Logistic_model(all_features, all_labels,sf,prediction_dict)\n",
        "\tprediction_dict=Knearest_model(all_features, all_labels, sf, prediction_dict)\n",
        "\t#prediction_dict=BalancedBagging_model(all_features, all_labels,sf, prediction_dict)\n",
        "\tprediction_dict=RUS_model(all_features, all_labels,sf, prediction_dict)\n",
        "\n",
        "\tl=prediction_dict.items()\n",
        "\tmaximum=0\n",
        "\tmodel=\"\"\n",
        "\tfor item in l:\n",
        "\t\tif item[1][2]>maximum:\n",
        "\t\t\tmaximum=item[1][2]\n",
        "\t\t\tmodel=item[0]\n",
        "\tprint( \"\\n--- Training and Testing Completed ! ---\\n\")\n",
        "\tprint(\"\\n\\nSelected Model: \"+ model + \" F1 score: \" + str(maximum))\n",
        "\treturn prediction_dict\n",
        "\n",
        "#把HFD45加到y\n",
        "scores_dict=Training(X_EN,y)\n",
        "print(scores_dict)"
      ]
    },
    {
      "cell_type": "code",
      "execution_count": null,
      "metadata": {
        "id": "s2uc8pYi1G5S"
      },
      "outputs": [],
      "source": [
        "#Calculate the c-index of K intersection\n",
        "\n",
        "\n",
        "sf=StratifiedKFold(n_splits=10, random_state=1, shuffle=True)\n",
        "for train_ix , test_ix in sf.split(X, y):\n",
        "  train_x, test_x = X[train_ix], X[test_ix]\n",
        "  train_y,test_y = np.array(y)[train_ix],np.array(y)[test_ix]\n",
        "\n",
        "\n"
      ]
    }
  ],
  "metadata": {
    "accelerator": "GPU",
    "colab": {
      "collapsed_sections": [
        "T45q0854Ur_E"
      ],
      "name": "ex2_code.ipynb",
      "provenance": [],
      "toc_visible": true,
      "authorship_tag": "ABX9TyNfpWX1bvNr1lYwGnspj0na",
      "include_colab_link": true
    },
    "kernelspec": {
      "display_name": "Python 3",
      "name": "python3"
    },
    "language_info": {
      "name": "python"
    }
  },
  "nbformat": 4,
  "nbformat_minor": 0
}